{
 "cells": [
  {
   "cell_type": "markdown",
   "metadata": {},
   "source": [
    "1. 两个数组a和b，可以任意交换数组内元素位置，使得$\\sum(a_i-b_i)^2最小$\n"
   ]
  },
  {
   "cell_type": "code",
   "execution_count": null,
   "metadata": {},
   "outputs": [],
   "source": [
    "n = int(input())\n",
    "a = list(map(int,input().split()))\n",
    "b = list(map(int,input().split()))\n",
    "\n",
    "a.sort()\n",
    "b.sort()\n",
    "res = 0\n",
    "for i in range(n):\n",
    "    res += (a[i]-b[i])**2\n",
    "print(res)"
   ]
  },
  {
   "cell_type": "markdown",
   "metadata": {},
   "source": [
    "2. 有n片瓜田，第i片瓜田在$[a_i,b_i]$时间段内可以结$k_i$个瓜，只能在这个时间段内去摘瓜，且每天总共只能摘v个瓜，问最多可以摘多少个瓜。\n",
    "\n",
    "题解应该是贪心排序，然后遍历。我用python一直TLE，只过了80%的测试用例"
   ]
  },
  {
   "cell_type": "code",
   "execution_count": null,
   "metadata": {},
   "outputs": [],
   "source": [
    "T = int(input())\n",
    "for i in range(T):\n",
    "    n,v = list(map(int,input().split()))\n",
    "    nums = []\n",
    "    days = 0\n",
    "    for j in range(n):\n",
    "        nums.append(list(map(int,input().split())))\n",
    "        days = max(days,max(nums[-1]))\n",
    "\n",
    "    nums.sort(key = lambda x: (x[-1],x[1]))\n",
    "    res  = 0\n",
    "    for day in range(1,days+1):\n",
    "        tmp = v\n",
    "        for i in range(n):\n",
    "            if nums[i][1] <= day <= nums[i][2] and nums[i][0] > 0:\n",
    "                if nums[i][0] >= tmp:\n",
    "                    res += tmp\n",
    "                    nums[i][0]-=tmp\n",
    "                    break\n",
    "                else:\n",
    "                    tmp-=nums[i][0]\n",
    "                    res += nums[i][0]\n",
    "                    nums[i][0] = 0        \n",
    "    print(res)\n"
   ]
  },
  {
   "cell_type": "code",
   "execution_count": null,
   "metadata": {},
   "outputs": [],
   "source": [
    "给一个序列A和一个k，生成一个序列B。\n",
    "1、如果A[i - k] = 1，则B[i] = 1\n",
    "2、或者A[i + k] = 1，则B[i] = 1\n",
    "3、否则B[i] = 0\n",
    "输入：1011100，k = 2\n",
    "输出：0010011\n",
    "\n",
    "思路：\n",
    "* 先一遍遍历把所有的0填上\n",
    "* 再遍历一遍填上所有的1\n",
    "* 把剩下没有填上的全填0"
   ]
  },
  {
   "cell_type": "code",
   "execution_count": null,
   "metadata": {},
   "outputs": [],
   "source": [
    "k = int(input())\n",
    "B = input()\n",
    "n = len(B)\n",
    "A = [None]*n\n",
    "# 把0填上\n",
    "for i in range(n):\n",
    "    if B[i] == '0':\n",
    "        if i-k>=0:\n",
    "            A[i-k] = \"0\"\n",
    "        if i+k<n:\n",
    "            A[i+k] = \"0\"\n",
    "# 填上所有的1\n",
    "for i in range(n):\n",
    "    if B[i] == \"1\":\n",
    "        # 贪心，只要左边或者右边有一个1了，那就不填了\n",
    "        if i-k>=0 and A[i-k]=='1':\n",
    "            continue\n",
    "        if i+k<n and A[i+k] == '1':\n",
    "            continue\n",
    "        # 否则，如果必须在左边填，那就填，否则在右边填，因为右边填，得到的串序列最小\n",
    "        if i+k>=n or A[i+k] == \"0\":\n",
    "            A[i-k] = \"1\"\n",
    "        else:\n",
    "            A[i+k] = \"1\"\n",
    "# 把剩下没有填上的全填0，保证序列最小\n",
    "for i in range(n):\n",
    "    if A[i] is None:\n",
    "        A[i] = \"0\"\n",
    "print(''.join(A))"
   ]
  },
  {
   "cell_type": "markdown",
   "metadata": {},
   "source": [
    "给一个序列A和一个k，生成一个序列B。\n",
    "1、如果A[i - k] = 1，则B[i] = 1\n",
    "2、或者A[i + k] = 1，则B[i] = 1\n",
    "3、否则B[i] = 0\n",
    "输入：1011100，k = 2\n",
    "输出：0010011\n",
    "\n",
    "不会，也没在牛客上找到题解，哎"
   ]
  }
 ],
 "metadata": {
  "language_info": {
   "name": "python"
  },
  "orig_nbformat": 4
 },
 "nbformat": 4,
 "nbformat_minor": 2
}
