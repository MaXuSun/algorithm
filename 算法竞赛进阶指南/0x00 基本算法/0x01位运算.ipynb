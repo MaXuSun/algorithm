{
 "cells": [
  {
   "cell_type": "markdown",
   "metadata": {},
   "source": []
  },
  {
   "cell_type": "markdown",
   "metadata": {},
   "source": [
    "1. 幂运算\n",
    "* 一个正整数可以表示为若干指数不重复的2的次幂的和：\n",
    "$$b=c_{k-1}2^{k-1}+c_{k-2}2^{k-2}+……+c_02^0$$\n",
    "* 于是$a^b$可以表示为:\n",
    "$$a^b=a^{c_{k-1}2^{k-1}}*a^{c_{k-2}2^{k-2}}*……*a^{c_02^0}$$\n",
    "* 使用到快速幂运算的知识：    \n",
    "(a + b) % p = (a % p + b % p) % p    \n",
    "(a – b) % p = (a % p – b % p) % p    \n",
    "(a * b) % p = (a % p * b % p) % p    \n",
    "(a^b) % p = ((a % p)^b) % p    \n",
    "* related blog\n",
    "  * [算法学习笔记(4):快速幂](https://zhuanlan.zhihu.com/p/95902286)\n",
    "  * [POJ 1995 Raising Modulo Numbers](http://www.hankcs.com/program/cpp/poj-1995-raising-modulo-numbers.html)"
   ]
  },
  {
   "cell_type": "markdown",
   "metadata": {},
   "source": [
    "1.1 $a^b$"
   ]
  },
  {
   "cell_type": "code",
   "execution_count": 18,
   "metadata": {},
   "outputs": [
    {
     "name": "stdout",
     "output_type": "stream",
     "text": [
      "2\n"
     ]
    }
   ],
   "source": [
    "def recupow(a,b):\n",
    "    if b == 0:\n",
    "        return 1\n",
    "    elif b %2 == 1:\n",
    "        return a * recupow(a,b-1)\n",
    "    else:\n",
    "        temp = recupow(a,b/2)\n",
    "        return temp * temp\n",
    "\n",
    "def pow(a,b):\n",
    "    ans = 1\n",
    "    while b:\n",
    "        if b &1:\n",
    "            ans *= a\n",
    "        a *= a\n",
    "        b >>= 1\n",
    "    return ans \n"
   ]
  },
  {
   "cell_type": "markdown",
   "metadata": {},
   "source": [
    "1.2 $a^b\\%p,1 \\leqslant a,b,p \\leqslant 10^9$"
   ]
  },
  {
   "cell_type": "code",
   "execution_count": null,
   "metadata": {},
   "outputs": [],
   "source": [
    "def recuqpow(a,b,q):\n",
    "    if b == 0:\n",
    "        return 1\n",
    "    elif b%2 == 1:\n",
    "        return a * recuqpow(a,b-1,q) % q\n",
    "    else:\n",
    "        temp = recuqpow(a,b/2)\n",
    "        return temp * temp % q\n",
    "\n",
    "def qpow(a,b,p):    # a^b%p\n",
    "    ans = 1 % p\n",
    "    while b:\n",
    "        if b&1:\n",
    "            ans = (ans * a) % p             # only when b&1(c_i) ==1, multiple current a to ans\n",
    "        a = (a * a) % p                     # update each time a\n",
    "        b = b>>1\n",
    "    return ans\n",
    "print(qpow(5,7,3))"
   ]
  },
  {
   "cell_type": "markdown",
   "metadata": {},
   "source": [
    "1.3 $a*b\\%p,1 \\leqslant a,b,p \\leqslant 10^18$"
   ]
  },
  {
   "cell_type": "code",
   "execution_count": null,
   "metadata": {},
   "outputs": [],
   "source": [
    "def pmul(a,b,p):\n",
    "    ans = 1 % p\n",
    "    while b:\n",
    "        if b&1:\n",
    "            ans = (ans+a) % p\n",
    "        a = a * 2 % p\n",
    "    return ans"
   ]
  },
  {
   "cell_type": "markdown",
   "metadata": {},
   "source": [
    "2. 二进制状态压缩\n",
    "将一个长度为`m`的`bool`数组用一个`m`位二进制整数`n`中表示并存    \n",
    "\n",
    "|操作|运算|\n",
    "|:--:|:--:|\n",
    "|取第k位|(n>>k)&1|\n",
    "|取出第0~k-1位(后k位)|n&((1<<k)-1)|\n",
    "|第k位取反|n^(1<<k)|\n",
    "|第k位赋1|n\\|(1<<k)|\n",
    "|第k位赋0|n&(~(1<<k))|\n",
    "\n",
    "* related blog       \n",
    "[那么什么是状态压缩呢？为什么能用到求最短哈密顿路径呢](http://www.soolco.com/post/57252_1_1.html)    \n",
    "**所以所谓的状态压缩就是把 一个状态集合用一个二进制数表示，我们只关心状态集合**"
   ]
  },
  {
   "cell_type": "markdown",
   "metadata": {},
   "source": [
    "2.1 Hamilton 距离    \n",
    "给定一张$n(n \\leqslant 20)$个点的带权无向图，点从$0~n-1$标号，求起点0到终点n-1的最短Hamilton路径\n",
    "* 状态转移公式\n",
    "F[state,j] = min{F[state_k,k] + weight[k,j]}, state_k=state除掉j之后的集合,state_k要包含k\n",
    "F[state,j] = min{F[state^(1<<j),k] + weight(k,j)}    \n",
    "F[state,j]：“点被经过的状态”对应二进制为state，且目前处于点j时的最短路径"
   ]
  },
  {
   "cell_type": "code",
   "execution_count": null,
   "metadata": {},
   "outputs": [],
   "source": [
    "F = [[float('inf')]*20 for _ in range(1<<20)]       # 不关系具体路径，只关心某个点是否被经过，且只经过一次，所以将n个点看做n个开关\n",
    "F[1][0] = 0\n",
    "def hamilton(n,weight,F):\n",
    "    for i in range(1<<n):\n",
    "        for j in range(n):\n",
    "            if (i >> j &1):                         # 判断i状态里面是不是包含j\n",
    "                for k in range(n):\n",
    "                    if ((i^1<<j) >> k & 1):         # 把第j位去掉，且当前状态包含k\n",
    "                        F[i][j] = min(F[i^1 << j][k]+weight[k][j])\n",
    "    return F[(1<<n)-1][n-1]"
   ]
  },
  {
   "cell_type": "markdown",
   "metadata": {},
   "source": [
    "2.2 起床困难综合征    \n",
    "选择[0,m]之间的一个整数$x_0$，经给定的`n`次位运算，使结果`ans`最大。这题特点是**在二进制表示下不进位，可以单个位考虑**\n",
    "\n",
    "* related blog\n",
    "[起床困难综合症](https://blog.csdn.net/qq_39286580/article/details/107304377?utm_medium=distribute.pc_relevant.none-task-blog-2~default~baidujs_title~default-1.no_search_link&spm=1001.2101.3001.4242.2)"
   ]
  },
  {
   "cell_type": "markdown",
   "metadata": {},
   "source": [
    "2.2.1 暴力搜索     \n",
    "遍历[0,m]中每个数经过`n`次运算的结果，找出最大的值。O(m*n)，超时"
   ]
  },
  {
   "cell_type": "code",
   "execution_count": null,
   "metadata": {},
   "outputs": [],
   "source": [
    "def suan(ops,nums,a):\n",
    "    for op,num in zip(ops,nums):\n",
    "        if op == 'AND':\n",
    "            a &= num\n",
    "        elif op == 'OR':\n",
    "            a |= num\n",
    "        elif op == 'XOR':\n",
    "            a ^= num\n",
    "    return a\n",
    "\n",
    "def main(m,ops,nums):\n",
    "    ans = 0\n",
    "    for i in range(m):                          # 遍历[0,m]中每个数\n",
    "        ans = max(ans,suan(i))\n",
    "    print(ans)"
   ]
  },
  {
   "cell_type": "markdown",
   "metadata": {},
   "source": [
    "2.2.2 bit贪心\n",
    "从高位到低位按照bit位考虑（这样每个bit只有0或1），若$x_0$的第`k`位填1，应该满足下面两个条件:\n",
    "1. 填1后，$x_0$不会超过`m`\n",
    "2. 如果填1后,n次位运算结果为1\n"
   ]
  },
  {
   "cell_type": "code",
   "execution_count": null,
   "metadata": {},
   "outputs": [],
   "source": [
    "def calc(ops,nums,bita,biti):\n",
    "    for op,num in zip(ops,nums):\n",
    "        x = num >> biti & 1             # 取出操作数的biti位，为了和bita计算\n",
    "        if op == 'AND': \n",
    "            a &= x\n",
    "        elif op =='OR':\n",
    "            a |= x\n",
    "        elif op == 'XOR':\n",
    "            a ^= x\n",
    "    return a\n",
    "\n",
    "def main(m,ops,nums):\n",
    "    val,ans = 0,0\n",
    "    for biti in range(0,30)[::-1]:\n",
    "        res0 = calc(ops,nums,0,biti)                # 当前位上0，得到的结果\n",
    "        res1 = calc(ops,nums,1,biti)                # 当前位上1，得到的结果\n",
    "        if (val + (1 << biti) <= m and res0 < res1):    # 满足上面的两个判断\n",
    "            val += 1 << biti\n",
    "            ans += res1 << biti\n",
    "        else:\n",
    "            ans += res0 << biti\n",
    "    return val,ans"
   ]
  },
  {
   "cell_type": "markdown",
   "metadata": {},
   "source": [
    "3. 成对变换     \n",
    "对于**非负整数n**    \n",
    "* n 是偶数, n xor 1 = n+1\n",
    "* n 是奇数, n xor = n-1\n",
    "\n",
    "因此，\"0与1\"，\"2与3\"，\"4与5\"构成成对变换"
   ]
  },
  {
   "cell_type": "markdown",
   "metadata": {},
   "source": [
    "4. lowbit运算    \n",
    "* 定义    \n",
    "lowbit(n):非负整数`n`在二进制表示下“最低位的1及其后边所有的0”构成的数值。如`lowbit(10)=lowbit(1010)=2`\n",
    "\n",
    "* 计算方式：\n",
    "lowbit(n) = n & (~n+1) = n & -n\n",
    "~n+1: 第k位=1，0~k-1位全为0，k+1~最高位，全为相反数\n",
    "\n",
    "* 应用    \n",
    "`lowbit`配合`Hash`得到**整数二进制表示下所有是1的位**\n",
    "不断令n=n-lowbit(n)，直到n=0即可，每次得到得到的lowbit(n)使用$log_2 lowbit(n)$得到索引\n"
   ]
  },
  {
   "cell_type": "code",
   "execution_count": null,
   "metadata": {},
   "outputs": [],
   "source": [
    "# 快速得到log2(lowbit(n))\n",
    "## 第一种\n",
    "H=[None] * (1<<20+1)\n",
    "for i in range(21):\n",
    "    H[1<<i] = i\n",
    "## 第二种，利用数学技巧: 任取 k in [0,35], 2^k mod 37互不相等，且恰好取遍整数1~36\n",
    "H = [None] * 37\n",
    "for i in range(36):\n",
    "     H[(1 << i) % 37] = i"
   ]
  }
 ],
 "metadata": {
  "interpreter": {
   "hash": "4bf5ffbeb8bb60b501bd370f4f30f4e42d71afa6b8bb033ca8128ca692dcec38"
  },
  "kernelspec": {
   "display_name": "Python 3.6.8 64-bit (system)",
   "name": "python3"
  },
  "language_info": {
   "codemirror_mode": {
    "name": "ipython",
    "version": 3
   },
   "file_extension": ".py",
   "mimetype": "text/x-python",
   "name": "python",
   "nbconvert_exporter": "python",
   "pygments_lexer": "ipython3",
   "version": "3.6.8"
  },
  "orig_nbformat": 4
 },
 "nbformat": 4,
 "nbformat_minor": 2
}
