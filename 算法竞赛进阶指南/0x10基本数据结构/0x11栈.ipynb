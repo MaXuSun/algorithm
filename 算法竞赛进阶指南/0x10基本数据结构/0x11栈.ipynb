{
 "cells": [
  {
   "cell_type": "markdown",
   "metadata": {},
   "source": [
    "* 栈\n",
    "\n",
    "* 特点\n",
    "  * 后进先出\n",
    "  * 线性\n",
    "  * 只有一段能够进出元素"
   ]
  },
  {
   "cell_type": "markdown",
   "metadata": {},
   "source": [
    "1.1 例1:\n",
    "\n",
    "实现一个栈，能在O(1)时间复杂度求出栈中最小元素\n",
    "\n",
    "* 题解\n",
    "  * 使用两个栈，一个记录数据，一个记录对应的最小值"
   ]
  },
  {
   "cell_type": "markdown",
   "metadata": {},
   "source": [
    "1.2 例子：\n",
    "\n",
    "实现一个数据结构，O(1)完成如下操作：\n",
    "* I x: 在当前光标位置之后插入一个整数 X, 插入以后光标移动到x之后；\n",
    "* D: 删除光标之前的一个整数，即按下退格键 Backspace;\n",
    "* L: 光标向左移动一个位置，即按下 <-- 键；\n",
    "* R: 光标向右移动一个位置，即按下 --> 键；\n",
    "* Q k:询问位置k之前的最大前缀和，其中k不超过当前光标的位置\n",
    "\n",
    "* 题解：\n",
    "  * I,D,L,R操作使用两个栈实现，搞个 “对顶栈”\n",
    "  * Q操作只是例1 + 前缀和"
   ]
  },
  {
   "cell_type": "markdown",
   "metadata": {},
   "source": [
    "1.3 进出栈序列问题 （**经典例题**）\n",
    "\n",
    "给定 1~N这N个整数和一个无限大的栈，每个数都要进栈一次并出栈一次。如果进栈的顺序为 1,2,...,N，那么可能的出栈序列有多少种？\n",
    "\n",
    "* 题解\n",
    "  * 使用一个 queue 存储pop的值，一个stack模拟栈，一个rest表示剩余的值\n",
    "  * 终止条件：len(queue)=n：即所有值都出栈了\n",
    "  * 主体：\n",
    "    * 第一种情况：弹出栈顶元素\n",
    "    * 第二种情况：入栈"
   ]
  },
  {
   "cell_type": "code",
   "execution_count": null,
   "metadata": {},
   "outputs": [],
   "source": [
    "# 递归\n",
    "num = 20\n",
    "n = 5\n",
    "def dfs(stack,queue,rest):\n",
    "    global num\n",
    "    if num == 0:return 0        # Acwing特定题目的剪枝条件\n",
    "\n",
    "    cnt = 0\n",
    "    if len(queue) == n:         # 如果pop的值达到了n个，说明达到了终止条件\n",
    "        print(queue)\n",
    "        num -= 1\n",
    "        return 1\n",
    "    \n",
    "    if len(stack):                  # 如果栈顶还有元素的话，取出栈顶元素\n",
    "        queue.append(stack.pop())\n",
    "        cnt += dfs(stack,queue,rest)        # 这里注意 rest 没有变\n",
    "        stack.append(queue.pop())\n",
    "    \n",
    "    if rest < n:                    # 如果还有剩余的话，push一个数值\n",
    "        stack.append(rest)\n",
    "        cnt += dfs(stack,queue,rest+1)\n",
    "        stack.pop()\n",
    "    return cnt\n",
    "stack,queue = [],[]\n",
    "print(dfs(stack,queue,0))\n"
   ]
  },
  {
   "cell_type": "markdown",
   "metadata": {},
   "source": [
    "2. 表达式计算\n",
    "\n",
    "* 中缀表达式，如 3 * (1 - 2)\n",
    "* 前缀表达式，如 * 3 - 1 2\n",
    "* 后缀表达式，如 1 2 - 3 *\n",
    "\n",
    "相关问题：\n",
    "* O(N)求解后缀表达式\n",
    "* O(N)中缀表达式转后缀表达式\n",
    "* O($N^2$)递归求解中缀表达式  （感觉这个不怎么考）\n"
   ]
  },
  {
   "cell_type": "markdown",
   "metadata": {},
   "source": [
    "2.1 求解后缀表达式\n",
    "\n",
    "* 题解：\n",
    "  1. 如果遇到数，入栈\n",
    "  2. 如果遇到运算符，将栈顶两个元素弹出，计算并入栈\n",
    "  * 重复1，2直到栈中就剩下一个数"
   ]
  },
  {
   "cell_type": "code",
   "execution_count": 27,
   "metadata": {},
   "outputs": [
    {
     "name": "stdout",
     "output_type": "stream",
     "text": [
      "3.0\n"
     ]
    }
   ],
   "source": [
    "def operate(num1,num2,op):\n",
    "    if op =='*':\n",
    "        return num1 * num2\n",
    "    elif op == '/':\n",
    "        return num1 / num2\n",
    "    elif op == '+':\n",
    "        return num1 + num2\n",
    "    elif op == '-':\n",
    "        return num1 - num2\n",
    "\n",
    "_str = \"3 1 2 - *\"\n",
    "stack = []\n",
    "for s in _str.split():\n",
    "    if not stack:\n",
    "        stack.append(float(s))\n",
    "    else:\n",
    "        if s.isnumeric():\n",
    "            stack.append(float(s))\n",
    "        else:\n",
    "            num1 = stack.pop()\n",
    "            num2 = stack.pop()\n",
    "            stack.append(operate(num1,num2,s))\n",
    "print(stack.pop())"
   ]
  },
  {
   "cell_type": "markdown",
   "metadata": {},
   "source": [
    "2.2 中缀表达式转后缀表达式\n",
    "\n",
    "* 题解：\n",
    "  * 如果遇到一个数就输出该数\n",
    "  * 如果遇到一个左括号，把左括号入栈\n",
    "  * 如果遇到一个右括号，不断取出栈顶并输出，直到栈顶为左括号，然后把左括号出栈\n",
    "  * 如果遇到预算符，只要栈顶符号的优先级 >= 新符号，就不断取出栈顶符号。**优先级为：乘除>加减>左括号**\n"
   ]
  },
  {
   "cell_type": "code",
   "execution_count": 26,
   "metadata": {},
   "outputs": [
    {
     "name": "stdout",
     "output_type": "stream",
     "text": [
      "3 1 2 - *\n"
     ]
    }
   ],
   "source": [
    "def compare(op1,op2):\n",
    "    privarity = {\n",
    "        '*':1,\n",
    "        '/':1,\n",
    "        '+':2,\n",
    "        '-':2,\n",
    "        '(':3\n",
    "    }\n",
    "    return privarity[op1] <= privarity[op2]\n",
    "_str = \"3 * ( 1 - 2 )\"\n",
    "res = []\n",
    "stack = []\n",
    "for s in _str.split():\n",
    "    if s.isnumeric():\n",
    "        res.append(s)\n",
    "    elif s == '(':\n",
    "        stack.append(s)\n",
    "    elif s == \")\":\n",
    "        while stack and stack[-1] != \"(\":\n",
    "            res.extend(stack.pop())\n",
    "        stack.pop()\n",
    "    elif s in ['+','-','*','/']:\n",
    "        while stack and compare(stack[-1],s):\n",
    "            res.extend(stack.pop())\n",
    "        stack.append(s)\n",
    "while stack:\n",
    "    res.append(stack.pop())\n",
    "print(' '.join(res))\n"
   ]
  },
  {
   "cell_type": "markdown",
   "metadata": {},
   "source": [
    "3. 单调栈   **挺重要的一个算法**\n",
    "\n",
    "* Leetcode : 42,84,496,739,907\n",
    "* Acwing: 830, 131\n",
    "\n",
    "维护一个栈，栈中数据是单调增加或者单调减少。\n",
    "\n",
    "* 模型\n",
    "  * **求出一个数左/右边第一个比它小/大的数**"
   ]
  },
  {
   "cell_type": "markdown",
   "metadata": {},
   "source": [
    "3.1 Largest Rectangle in a Histogram\n",
    "\n",
    "在一条水平线上有若干个矩阵，求包含于这些矩阵的并集内部的最大矩形的面积。"
   ]
  },
  {
   "cell_type": "code",
   "execution_count": 39,
   "metadata": {},
   "outputs": [
    {
     "name": "stdout",
     "output_type": "stream",
     "text": [
      "[-1, 0, 0, 2, 3, 0, 5, 5] [0, 5, 7]\n"
     ]
    }
   ],
   "source": [
    "high = [-1,2,1,4,5,1,3,3]       # 搞两个哨兵为-1\n",
    "\n",
    "def get():\n",
    "    findh = [-1]                 # 找到的高度，里面记录的也是下标\n",
    "    stack = [0]                  # 单调栈，里面记录的是下标\n",
    "    for i in range(1,len(high)):\n",
    "        while(high[stack[-1]] >= high[i]):\n",
    "            stack.pop()\n",
    "        findh.append(stack[-1])\n",
    "        stack.append(i)\n",
    "    print(findh,stack)\n",
    "get()\n",
    "\n"
   ]
  }
 ],
 "metadata": {
  "interpreter": {
   "hash": "4bf5ffbeb8bb60b501bd370f4f30f4e42d71afa6b8bb033ca8128ca692dcec38"
  },
  "kernelspec": {
   "display_name": "Python 3.6.8 64-bit (system)",
   "language": "python",
   "name": "python3"
  },
  "language_info": {
   "codemirror_mode": {
    "name": "ipython",
    "version": 3
   },
   "file_extension": ".py",
   "mimetype": "text/x-python",
   "name": "python",
   "nbconvert_exporter": "python",
   "pygments_lexer": "ipython3",
   "version": "3.6.8"
  },
  "orig_nbformat": 4
 },
 "nbformat": 4,
 "nbformat_minor": 2
}
