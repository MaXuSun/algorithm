{
 "cells": [
  {
   "cell_type": "markdown",
   "metadata": {},
   "source": [
    "Hash 表\n",
    "\n",
    "Hash 表主要包括两个基本操作\n",
    "* 计算Hash函数的值\n",
    "* 定位到对应链表中依次遍历、比较\n",
    "\n",
    "为了解决Hash映射后的冲突问题，一般使用“开散列”的解决方案。建立一个邻接表结构，以Hash函数的值域作为表头数组head，映射后的值相同的原始信息被分到同一类，构成一个链表接在对应的表头之后，链表的节点上可以保存原始信息和一些统计数据。"
   ]
  },
  {
   "cell_type": "markdown",
   "metadata": {},
   "source": [
    "1. 例题：雪花雪花雪花 [Acwing137](https://www.acwing.com/problem/content/139/)\n",
    "\n",
    "* 题解\n",
    "  * 使用hash, **但是我完全不知道为啥上来就想到Hash了！！！**书中是下面这样说的：\n",
    "    * **显然，对于两片形状相同的雪花，他们六个角的长度之和、长度之积都相等，因此它们的Hash函数值也相等。**\n",
    "  * 建立一个Hash表，把N片雪花依次插入。对于每片雪花$a_{i,1},a_{i,2},...,a_{i,6}$，我们直接扫描表头 H($a_{i,1},a_{i,2},...,a_{i,6}$)对应的链表，检查是否存在与$a_{i,1},a_{i,2},...,a_{i,6}$形状相同的雪花即可。"
   ]
  },
  {
   "cell_type": "code",
   "execution_count": null,
   "metadata": {},
   "outputs": [],
   "source": [
    "import collections\n",
    "\n",
    "MOD = 99991\n",
    "Snow = collections.namedtuple('Snow', 'arms next')\n",
    "snows = [None] * 100000\n",
    "\n",
    "def check(arms, idx):\n",
    "    \"\"\"遍历所有雪花\"\"\"\n",
    "    p = snows[idx]\n",
    "    while p is not None:            # 有些值相同可能被映射到相同的链中，这里所以遍历一下\n",
    "        for i in range(6):\n",
    "            # 寻找对比起点\n",
    "            if arms[i] == p.arms[0]:\n",
    "                j = i\n",
    "                # 正向\n",
    "                for k in range(1,6):\n",
    "                    j = (j + 1) % 6\n",
    "                    if arms[j] != p.arms[k]:\n",
    "                        break\n",
    "                else:\n",
    "                    return True\n",
    "                j = i\n",
    "                # 反向\n",
    "                for k in range(5, 0, -1):\n",
    "                    j = (j + 1) % 6\n",
    "                    if arms[j] != p.arms[k]:\n",
    "                        break\n",
    "                else:\n",
    "                    return True\n",
    "        p = p.next\n",
    "    \"\"\"将现在的雪花插入\"\"\"\n",
    "    node = Snow(arms, snows[idx])\n",
    "    snows[idx] = node\n",
    "    return False\n",
    "\n",
    "def main():\n",
    "    n = int(input())\n",
    "    for i in range(n):\n",
    "        temp = list(map(int, input().split()))\n",
    "        idx = sum(temp)%MOD\n",
    "        if check(temp, idx):\n",
    "            print('Twin snowflakes found.')\n",
    "            return\n",
    "    print('No two snowflakes are alike.')\n",
    "\n",
    "\n",
    "if __name__ == '__main__':\n",
    "    main()"
   ]
  },
  {
   "cell_type": "markdown",
   "metadata": {},
   "source": [
    "2. 字符串 Hash  **感觉挺重要的**\n",
    "\n",
    "把一个字符串映射成一个整数，这样查找字符串时间复杂度就会变得简单\n",
    "\n",
    "* 操作\n",
    "  * 把整个字符串看成一个P进制数，然后对q取模，得到的值就是hash值\n",
    "  * 给所有可能出现的字符都赋值，比如a~z赋值为 1~26，假设这个映射函数为H\n",
    "  * 对一个长度为n的字符串S，计算它的整数表示为 $val = \\sum_{i=0}^{n} H[S[i]]*P^{n-i}$\n",
    "  * 那么它的hash值就是 val%q\n",
    "  * **一般p取131或者13331q=$2^{64}$**，q取$2^{64}$是因为我们可以直接用unsigned long long，溢出也不去管它，那么得到的val就相当于取模后的 val%q，这样可以少了取模这一步。\n",
    "  * 使用上面的p和q，正常做题可以默认是没有冲突的。\n",
    "\n",
    "* 性质\n",
    "  * 假设上述将字符串映射到hash值的过程看做一个函数$f(i)=hash_i$：表示S前i个字符组成的前缀的hash值\n",
    "  * $f(i+1) = f(i)*p + H[S[i+1]]$\n",
    "  * $f(i-j) = f(i) - f(j-1)*p^{i-j+1}, j <i$ ,后面*$p^{i-j+1}$是因为我们表示的时候，默认字符在左边为高位。"
   ]
  },
  {
   "cell_type": "markdown",
   "metadata": {},
   "source": [
    "2.1 兔子兔子 [Acwing138]((https://www.acwing.com/problem/content/140/)\n",
    "\n",
    "这里先用c++的代码实现，因为python中没有unsigned long long这个限制"
   ]
  },
  {
   "cell_type": "code",
   "execution_count": null,
   "metadata": {},
   "outputs": [],
   "source": [
    "#include <iostream>\n",
    "#include <string.h>\n",
    "\n",
    "using namespace std;\n",
    "typedef unsigned long long ULL;\n",
    "const int N = 100010,base = 131;\n",
    "\n",
    "char str[N];\n",
    "ULL h[N],p[N];  // p用来存进位\n",
    "\n",
    "ULL get(int l,int r){\n",
    "    return h[r] - h[l-1]*p[r-l+1];\n",
    "}\n",
    "\n",
    "int main(){\n",
    "    scanf(\"%s\",str+1);\n",
    "    int n = strlen(str+1);\n",
    "    // 这就是字符串hash的实现方法\n",
    "    for(int i=1;i <= n; i++){\n",
    "        h[i] = h[i-1] * base + str[i]-'a' + 1;\n",
    "        p[i] = p[i-1] * base;\n",
    "    }\n",
    "    int m;\n",
    "    cin >> m;\n",
    "    while (m--){\n",
    "        int l1,r1,l2,r2;\n",
    "        scanf(\"%d%d%d%d\",&l1,&r1,&l2,&r2);\n",
    "        if (get(l1,r1) == get(l2,r2)) puts(\"Yes\");\n",
    "        else puts(\"No\");\n",
    "    }\n",
    "    return 0;\n",
    "}\n"
   ]
  },
  {
   "cell_type": "markdown",
   "metadata": {},
   "source": []
  }
 ],
 "metadata": {
  "interpreter": {
   "hash": "4bf5ffbeb8bb60b501bd370f4f30f4e42d71afa6b8bb033ca8128ca692dcec38"
  },
  "kernelspec": {
   "display_name": "Python 3.6.8 64-bit (system)",
   "language": "python",
   "name": "python3"
  },
  "language_info": {
   "name": "python",
   "version": "3.6.8"
  },
  "orig_nbformat": 4
 },
 "nbformat": 4,
 "nbformat_minor": 2
}
