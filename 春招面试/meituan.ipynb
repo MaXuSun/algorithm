{
 "cells": [
  {
   "cell_type": "markdown",
   "metadata": {},
   "source": [
    "# 第一题\n",
    "小美现在相信一些数字能给他带来好运\n",
    "这些数字至少满足一下两个特征中的一种：\n",
    "1.数字是11的整数倍\n",
    "数字中至少包含两个1\n",
    "小美现在给你若干和数字，希望你回答这个数字是不是幸运数"
   ]
  },
  {
   "cell_type": "code",
   "execution_count": null,
   "metadata": {},
   "outputs": [],
   "source": [
    "n = int(input())\n",
    "for i in range(n):\n",
    "    num = input()\n",
    "    if num.count('1') >=2 or int(num)%11==0:\n",
    "        print('yes')\n",
    "    else:\n",
    "        print('no')"
   ]
  },
  {
   "cell_type": "markdown",
   "metadata": {},
   "source": [
    "# 第二题\n",
    "小美现在有一个序列，序列中仅包含1和-1两种数字。\n",
    "小美现在想要知道，有多少连续的子序列，序列中的数字乘积为正。\n",
    "* 输入描述\n",
    "第一行一个正整数n，表示小美手中的序列长度。\n",
    "第二行n个空格隔开的数字，每个数字只能是1和-1中的一种。\n",
    "对于80%的数据保证1 <= n <= 500\n",
    "对于剩余20%的数据保证1<=n<=5000"
   ]
  },
  {
   "cell_type": "code",
   "execution_count": null,
   "metadata": {},
   "outputs": [],
   "source": [
    "# 使用DP，两个dp表: dp_po和dp_nv，\n",
    "# dp_po[i]：以nums[i]结尾，正整数序列个数\n",
    "# dp_nv[i]：以nums[i]结尾，负整数序列个数\n",
    "n = int(input())\n",
    "nums = list(map(int,input().split()))\n",
    "res = 0\n",
    "dp_nv = [0]*(n+1)\n",
    "dp_po = [0]*(n+1)\n",
    "for i in range(n):\n",
    "    if nums[i] == 1:\n",
    "        dp_po[i] = 1+dp_po[i-1]\n",
    "        dp_nv[i] = dp_nv[i-1]\n",
    "    else:\n",
    "        dp_po[i] = dp_nv[i-1]\n",
    "        dp_nv[i] = dp_po[i-1]+1\n",
    "print(sum(dp_po))\n"
   ]
  },
  {
   "cell_type": "markdown",
   "metadata": {},
   "source": [
    "# 第三题\n",
    "小美现在在厨房做饭，小美发现食材现在只够每种菜做一份。\n",
    "现在同一时刻（即不分先后顺序）来了n个顾客，每个顾客都有想两份要点的菜。只有当顾客吃到全部自己想要的菜的时候，顾客才会满意。\n",
    "现在你的任务是，和你地接取顾客的订单要求，尽可能让更多的顾客满意，并输出最多有多少顾客可以满意。\n",
    "* 输入描述\n",
    "第一行两个正整数n,m\n",
    "n表明有多少顾客前来点菜，m表示小美现在能做的菜的编号范围在[1,m]。\n",
    "接下来n行，每行两个数字，表明一名顾客的所点的两道菜的编号。\n",
    "其中80%的数据保证2<=n<=10，2<=m<=20\n",
    "另外20%的数据保证2<=n<=20，2<=m<=40\n",
    "* 输出描述\n",
    "一行一个正整数表示最多有多少顾客可以满意"
   ]
  },
  {
   "cell_type": "code",
   "execution_count": null,
   "metadata": {},
   "outputs": [],
   "source": [
    "# 暴搜只能过80%的数据，这里使用BitMask做\n",
    "n,m = list(map(int,input().split()))\n",
    "nums = [list(map(int,input().split())) for _ in range(n)]\n",
    "nums = [[num[0]-1,num[1]-1] for _ in range(n)]\n",
    "res = 0\n",
    "for i in range(1<<n):\n",
    "    tot,bits,ok = 0,0,True\n",
    "    for k in range(n):\n",
    "        if i >>k & 1:\n",
    "            bits += 1\n",
    "            num = nums[k]\n",
    "            for l in range(len(num)):\n",
    "                if num[l] >= m or num[l]<0 or (tot >> int(num[l] & 1)):\n",
    "                    ok = False\n",
    "                    break\n",
    "                tot ^= (1<<num[l])\n",
    "    if ok:\n",
    "        res = max(res,bits)\n",
    "print(res)"
   ]
  },
  {
   "cell_type": "markdown",
   "metadata": {},
   "source": [
    "# 第四题\n",
    "小美现在在打音游，这个音游的玩法是这样的：\n",
    "* 共有n个房间，小美初始拥有一个指针，指在一号房间。\n",
    "* 每秒会有一个房间产生炸弹，小美的指针不能在这个房间中。\n",
    "* 每秒结束的瞬间，小美可以使用一次魔法，把指针切换到另一个房间，该过程会消耗一个能量。\n",
    "你的任务是计算小美无伤通过音游所需要消耗的最小能量。\n",
    "保证第一秒的炸弹不发生在一号房间中。\n",
    "* 输入：\n",
    "第一行两个正数n和m，表示房间又n个，游戏持续m秒\n",
    "第二行m个正整数，每个正整数在1~n的范围内，第i个正整数表示第i秒时炸弹在哪个房间生成。\n",
    "数字间有空格隔开\n",
    "数据保证 n<=10，1<=m<=10000\n",
    "* 输出：正整数，表示小美无伤通过音游所需要消耗的最少能量"
   ]
  },
  {
   "cell_type": "code",
   "execution_count": null,
   "metadata": {},
   "outputs": [],
   "source": [
    "# dp[i][j]，第i秒结束时，待在j房间所用最少能量\n",
    "n,m = list(map(int,input().split()))\n",
    "bombs = list(map(int,input().split()))\n",
    "dp = [[0]*(n+1) for _ in range(m)]\n",
    "# 初始化第0秒后的能量\n",
    "for i in range(1,n+1):\n",
    "    if bombs[0]==i:\n",
    "        dp[0][i] = float('inf')\n",
    "    elif i != 1:\n",
    "        dp[0][i] = 1\n",
    "\n",
    "for i in range(1,m):\n",
    "    bomb = bombs[i]\n",
    "    for j in range(1,n+1):\n",
    "        if j == bomb:                           # 如果这个屋子被炸了，我们赋值inf，并跳过\n",
    "            dp[i][bomb] = float('inf')\n",
    "            continue\n",
    "        dp[i][j] = dp[i-1][j]                   # 假如我待在现在这个屋子里不动\n",
    "        for k in range(1,n+1):\n",
    "            if k == j:\n",
    "                continue\n",
    "            dp[i][j] = min(dp[i][j],dp[i-1][k]+1)\n",
    "\n",
    "print(min(dp[-1][1:]))\n"
   ]
  }
 ],
 "metadata": {
  "interpreter": {
   "hash": "4bf5ffbeb8bb60b501bd370f4f30f4e42d71afa6b8bb033ca8128ca692dcec38"
  },
  "kernelspec": {
   "display_name": "Python 3.6.8 64-bit (system)",
   "language": "python",
   "name": "python3"
  },
  "language_info": {
   "name": "python",
   "version": "3.6.8"
  },
  "orig_nbformat": 4
 },
 "nbformat": 4,
 "nbformat_minor": 2
}
