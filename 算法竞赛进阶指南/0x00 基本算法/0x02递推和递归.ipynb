{
 "cells": [
  {
   "cell_type": "markdown",
   "metadata": {},
   "source": [
    "1. 递推和递归的宏观描述\n",
    "\n",
    "* 使用前提    \n",
    "程序在每个步骤上应该面对相同种类的问题，这些问题都是原问题的一个子问题，可能仅在规模或者某些限制条件上有所区别，并且能够使用“求解源问题的程序”进行求解"
   ]
  },
  {
   "cell_type": "markdown",
   "metadata": {},
   "source": [
    "2. 递推与递归的简单应用\n"
   ]
  },
  {
   "cell_type": "markdown",
   "metadata": {},
   "source": [
    "2.1 递归实现指数型枚举   \n",
    "从1~n这n个整数中随机选取任意多个，输出所有可能的选择方案"
   ]
  },
  {
   "cell_type": "markdown",
   "metadata": {},
   "source": [
    "2.1.1 回溯解法    \n",
    "下面给了回溯解法的代码，除此之外还有：    \n",
    "lowbit + hash解法： 遍历$2^1$~$2^n$"
   ]
  },
  {
   "cell_type": "code",
   "execution_count": null,
   "metadata": {},
   "outputs": [],
   "source": [
    "chosen = []         # 用于记录被选择的数\n",
    "def calc(x):\n",
    "    if x == n + 1:      # 问题边界，待选择的x已经超出n了\n",
    "        for i in range(len(chosen)):\n",
    "            print(chosen[i])\n",
    "        return None\n",
    "\n",
    "    # 不选x分支：跳过x去选择x+1\n",
    "    calc(x+1)\n",
    "    # 选择x分支\n",
    "    chosen.append(x)        # 记录x被选择\n",
    "    calc(x+1)               # 求解子问题\n",
    "    chosen.pop()            # 准备回溯到上一个问题之前，还原现场\n",
    "\n",
    "def main():\n",
    "    calc(1)\n",
    "        "
   ]
  },
  {
   "cell_type": "markdown",
   "metadata": {},
   "source": [
    "2.2 递归实现组合型枚举\n",
    "\n",
    "从1~n这n个整数中随机选出$m(0 \\leqslant m \\leqslant n < 20)$个，输出所有可能的选择方案"
   ]
  },
  {
   "cell_type": "code",
   "execution_count": null,
   "metadata": {},
   "outputs": [],
   "source": [
    "def calc(x):\n",
    "    if len(chosen) > m or len(chosen) + (n-x+1) < m:        # 剪枝过程\n",
    "        return\n",
    "    if x == n + 1:      # 问题边界，待选择的x已经超出n了\n",
    "        for i in range(len(chosen)):\n",
    "            print(chosen[i])\n",
    "        return None\n",
    "\n",
    "    # 不选x分支：跳过x去选择x+1\n",
    "    calc(x+1)\n",
    "    # 选择x分支\n",
    "    chosen.append(x)        # 记录x被选择\n",
    "    calc(x+1)               # 求解子问题\n",
    "    chosen.pop()            # 准备回溯到上一个问题之前，还原现场"
   ]
  },
  {
   "cell_type": "markdown",
   "metadata": {},
   "source": [
    "2.3 全排列    \n",
    "把1~n这$n(n<10)$个整数排成一行后随机打乱顺序，输出可能的次序"
   ]
  },
  {
   "cell_type": "code",
   "execution_count": null,
   "metadata": {},
   "outputs": [],
   "source": [
    "order = []\n",
    "chosen = [False] * 20\n",
    "n = 20\n",
    "def calc(k):                    # k是选择了多少个数\n",
    "    if k == n+1:                # 边界问题\n",
    "        for ord in order:\n",
    "            print(ord,' ')\n",
    "            \n",
    "    for i in range(n):\n",
    "        if chosen[i]: continue\n",
    "        order.append(i)\n",
    "        chosen[i] = True\n",
    "        calc(k+1)\n",
    "        chosen[i] = False\n",
    "        order.pop()\n",
    "def main():\n",
    "    calc(1)\n",
    "\n"
   ]
  },
  {
   "cell_type": "markdown",
   "metadata": {},
   "source": [
    "2.4 费解的开关\n",
    "* 题目    \n",
    "在一个5*5的01矩阵中，点击任意一个位置，该位置以及它上、下、左、右四个相邻的位置中的数值会变化，最少需要多少次点击可以把一个给定的01矩阵全变成0矩阵 （**这道题对于有些矩阵可能没有解**）\n",
    "* 解题思路：第一排先逐个尝试，然后固定第一排，从第3排开始，改变前一排状态\n",
    "* blog    \n",
    "[费解的开关](https://www.cnblogs.com/guiyou/p/15186329.html)\n"
   ]
  },
  {
   "cell_type": "code",
   "execution_count": null,
   "metadata": {},
   "outputs": [],
   "source": []
  },
  {
   "cell_type": "markdown",
   "metadata": {},
   "source": [
    "2.5 Strange Towers of Hanoi    \n",
    "解出n个盘子4座塔的Hanoi问题最少需要多少步。\n",
    "* n盘3塔: d[n] = 2*d[n-1] + 1\n",
    "* n盘4塔：$f[n]=\\min_{i \\leqslant i < n} {2 * f[i] + d[n-i]}$，含义：先把第i个盘子在4塔模式下移动到B柱，然后把n-i个盘子在3塔模式下移动到D柱，最后把i个盘子在4塔模式下移动到D柱，考虑所有可能的i的最小值。"
   ]
  },
  {
   "cell_type": "markdown",
   "metadata": {},
   "source": [
    "3. 分治    \n",
    "分治法吧问题划分为若干个规模更小的同类子问题，对于这些子问题递归求解，然后再回溯时通过它们推导出原问题的解。\n",
    "* 例题：\n",
    "使用分治法求等比数列：sum(p,c) = $1 + p + p^2+...+p^c$\n",
    "* 若c为奇数：sum(p,c) = $(1+p+...+p^{\\frac{c-1}{2}})+(p^{\\frac{c+1}{2}}+...+p^c)$=$(1+p^{\\frac{c+1}{2}})*sum(p,\\frac{c-1}{2})$\n",
    "* 若c为偶数，类似地：sum(p,c) = $(1+p^{\\frac{c}{2}})*sum(p,\\frac{c}{2}-1)+p^c$"
   ]
  },
  {
   "cell_type": "markdown",
   "metadata": {},
   "source": [
    "4. 分形 (太难了，并且不怎么用到，先跳过)"
   ]
  },
  {
   "cell_type": "markdown",
   "metadata": {},
   "source": [
    "5. 递归的机器实现 （如何把递归程序改成非递归程序）    \n",
    "\n",
    "* blog     \n",
    "(漫谈递归转非递归)[https://www.cnblogs.com/bakari/p/5349383.html]\n",
    "(递归算法转换为非递归算法的技巧)[https://www.jianshu.com/p/ab7bff89b118]\n"
   ]
  }
 ],
 "metadata": {
  "interpreter": {
   "hash": "4bf5ffbeb8bb60b501bd370f4f30f4e42d71afa6b8bb033ca8128ca692dcec38"
  },
  "kernelspec": {
   "display_name": "Python 3.6.8 64-bit (system)",
   "name": "python3"
  },
  "language_info": {
   "name": "python",
   "version": "3.6.8"
  },
  "orig_nbformat": 4
 },
 "nbformat": 4,
 "nbformat_minor": 2
}
