{
 "cells": [
  {
   "cell_type": "markdown",
   "metadata": {},
   "source": [
    "* 排序，可以分为下面三类：\n",
    "  * 时间复杂度为$O(n^2)$：选择排序、插入排序、冒泡排序\n",
    "  * 时间复杂度为$O(nlogn)$: 堆排序、归并排序、快速排序\n",
    "  * 计数排序、基数排序、桶排序\n"
   ]
  },
  {
   "cell_type": "markdown",
   "metadata": {},
   "source": [
    "1. 先实现这些排序算法\n",
    "\n",
    "* 归并排序可以参看这个文章：[归并排序](https://www.runoob.com/w3cnote/merge-sort.html)\n",
    "* 快速排序可参考这个\"挖坑的思想\": [快速排序](https://www.runoob.com/w3cnote/quick-sort.html)"
   ]
  },
  {
   "cell_type": "code",
   "execution_count": 37,
   "metadata": {},
   "outputs": [
    {
     "name": "stdout",
     "output_type": "stream",
     "text": [
      "[30, 23, 36, 16, 29, 8, 47, 25, 19, 15]\n",
      "[8, 15, 16, 19, 23, 25, 29, 30, 36, 47]\n",
      "[21, 34, 36, 16, 34, 3, 32, 9, 48, 24]\n",
      "[3, 9, 16, 21, 24, 32, 34, 34, 36, 48]\n",
      "[24, 10, 5, 19, 6, 29, 14, 43, 8, 48]\n",
      "[5, 6, 8, 10, 14, 19, 24, 29, 43, 48]\n",
      "[2, 6, 2, 36, 32, 28, 41, 33, 3, 40]\n",
      "[2, 2, 3, 6, 28, 32, 33, 36, 40, 41]\n",
      "[13, 31, 0, 14, 3, 20, 29, 6, 50, 28]\n",
      "[0, 3, 6, 13, 14, 20, 28, 29, 31, 50]\n"
     ]
    }
   ],
   "source": [
    "import random\n",
    "def display(sort_func):\n",
    "    array = [random.randint(0,50) for _ in range(10)]\n",
    "    print(array)\n",
    "    sort_func(array)\n",
    "    print(array)\n",
    "# 1.选择排序\n",
    "def select_sort(array):\n",
    "    for i in range(len(array)-1,-1,-1):\n",
    "        max_index = 0\n",
    "        for j in range(i+1):\n",
    "            max_index = j if array[j] > array[max_index] else max_index     # 记录最大值下标\n",
    "        array[max_index],array[i] = array[i],array[max_index]               # 交换数据\n",
    "display(select_sort)\n",
    "\n",
    "# 2. 插入排序\n",
    "def insert_sort(array):\n",
    "    for i in range(1,len(array)):\n",
    "        insert_index = i-1\n",
    "        insert_val = array[i]\n",
    "        while insert_index >= 0 and array[insert_index] > insert_val:\n",
    "            array[insert_index+1] = array[insert_index]\n",
    "            insert_index -= 1\n",
    "        array[insert_index+1] = insert_val      # 为什么要+1,因为跳出循环后 insert_index = -1 或者 array[insert_index] <= inset_val\n",
    "display(insert_sort)\n",
    "\n",
    "# 3. 冒泡排序\n",
    "def bubble_sort(array):\n",
    "    for i in range(len(array)-1,-1,-1):\n",
    "        for j in range(i):\n",
    "            if array[j] > array[j+1]:           # 每次只比较相邻的两个元素\n",
    "                array[j],array[j+1] = array[j+1],array[j]\n",
    "display(bubble_sort)\n",
    "\n",
    "# 4. 堆排序，比较麻烦，需要创建堆和调整堆\n",
    "# 4.1 创建堆\n",
    "\n",
    "# 5. 归并排序 (下面写法是用c++的风格写的)\n",
    "def merge(array,temp,left,right):               # 数据范围在 [left,right]，两边都是闭区间\n",
    "    mid = (right+left)>>1\n",
    "    i,j = left,mid+1\n",
    "    for k in range(left,right+1):\n",
    "        if j > right or (i <= mid and array[i] < array[j]):\n",
    "            temp[k] = array[i]\n",
    "            i+=1\n",
    "        else:\n",
    "            temp[k] = array[j]\n",
    "            j+=1\n",
    "    for k in range(left,right+1):\n",
    "        array[k] = temp[k]\n",
    "\n",
    "def merge_sort(array,temp,left,right):          # 数据范围在 [left,right]，两边都是闭区间\n",
    "    if left >= right:\n",
    "        return None\n",
    "    mid = (left+right) >> 1\n",
    "    merge_sort(array,temp,left,mid)             # 先把左边排好序\n",
    "    merge_sort(array,temp,mid+1,right)          # 再把右边排好序\n",
    "    merge(array,temp,left,right)                # 合并两边排好的数据\n",
    "array = [random.randint(0,50) for _ in range(10)]\n",
    "print(array)\n",
    "merge_sort(array,[None]*len(array),0,len(array)-1)\n",
    "print(array)\n",
    "\n",
    "# 6. 快速排序\n",
    "def quick(array,left,right):\n",
    "    base_num = array[left]              # 先在左边挖了一个坑\n",
    "    i,j = left,right\n",
    "    while i < j:\n",
    "        while array[j] >= base_num and i < j:           # 所以这里要从右边找个数填到左边的坑里\n",
    "             j -= 1\n",
    "        if i < j:                                       # 找到一个数把左边的坑填了\n",
    "            array[i] = array[j]         \n",
    "            i += 1                                      # 指针移动到坑的下一个\n",
    "        while array[i] < base_num and i < j:            # 从左边找个数填右边的坑\n",
    "            i += 1\n",
    "        if i < j:                                       # 同上\n",
    "            array[j] = array[i]\n",
    "            j -= 1\n",
    "\n",
    "    array[i] = base_num\n",
    "    return i\n",
    "def quick_sort(array,left,right):\n",
    "    if right>left:\n",
    "        index = quick(array,left,right)\n",
    "        quick_sort(array,left,index)\n",
    "        quick_sort(array,index+1,right)\n",
    "\n",
    "# 可以合并上面的两个函数：\n",
    "def quick_sort(array,left,right):\n",
    "    if left < right:\n",
    "        i,j,base_num = left,right,array[left]\n",
    "        while i < j:\n",
    "            while array[j] >= base_num and i < j:\n",
    "                j -= 1\n",
    "            if i < j:\n",
    "                array[i] = array[j]\n",
    "                i += 1\n",
    "            while array[i] <= base_num and i < j:\n",
    "                i += 1\n",
    "            if i < j:\n",
    "                array[j] = array[i]\n",
    "                j -= 1\n",
    "        array[i] = base_num\n",
    "        quick_sort(array,left,i)\n",
    "        quick_sort(array,i+1,right)\n",
    "\n",
    "array = [random.randint(0,50) for _ in range(10)]\n",
    "print(array)\n",
    "quick_sort(array,0,len(array)-1)\n",
    "print(array)"
   ]
  },
  {
   "cell_type": "markdown",
   "metadata": {},
   "source": [
    "2. 离散化： 就是吧无穷大集合中的若干个元素映射为有限集合以便于统计的方法。\n",
    "* 例子：\n",
    "  * 问题的定义在整数集合 $\\mathcal{Z}$ 。但是只涉及其中m个有限数值，并且与数值的绝对大小无关，只与它们的相对顺序有关。此时，我们就可以整数集合 $\\mathcal{Z}$ 中的这m个整数与 l~m 建立映射关系。\n",
    "  * 如果要把int范围内的n个整数去掉重复的映射到1~m中。\n",
    "    * 先把 a 数组排序并去掉重复的数值，得到有序数组 b[1] ~ b[m]\n",
    "    * 在b数组的下标i与数值b[i]之间建立映射关系   # 下标范围 1~m\n",
    "    * 若要查找 i 指代的数字，则只需返回 b[i]\n",
    "    * 若要查找 a[j] 被那个数字指代，只需在b中二分查找a[j]的位置即可"
   ]
  },
  {
   "cell_type": "code",
   "execution_count": null,
   "metadata": {},
   "outputs": [],
   "source": [
    "def discrete():\n",
    "    sort(a)                             # 先排序\n",
    "    for i in range(n):                  # 去重复，或者使用unique函数\n",
    "        if i==0 or a[i] != a[i-1]:\n",
    "            b[m] = a[i]\n",
    "            m+=1\n",
    "def query(x,b):                           # 查询x映射为哪个1~m之间的整数 (这里使用后驱二分法方式)\n",
    "    while l < r:\n",
    "        mid = (l+r) >> 1\n",
    "        if b[mid] >= x:\n",
    "            r = mid\n",
    "        else:\n",
    "            l = mid + 1\n",
    "    return l"
   ]
  },
  {
   "cell_type": "markdown",
   "metadata": {},
   "source": [
    "2.1 Cinema \n",
    "\n",
    "有m部正在上映的电影，每部电影的语音和字幕都采用不同的语言，用一int范围内的整数来表示语言。有n个人相约一起去看其中一部影，每个人只会一种语言，如果一个人能听懂电影的语音，他会很高兴，如果能看懂字幕，他会比较高兴；如果语音和字幕都不懂，他会不开心。请你选择一部电影让这n个人一起看，使很高兴的人最多。若答案不唯一，则在此前提下再让比较高兴的人最多， $n, m \\leqslant 2 * 10$\n",
    "\n",
    "* 题解：\n",
    "  * 直接统计会每种语言的人有多少\n",
    "  * 因为m个字幕语言和m个语音语言的范围都在Int内，如果直接用数组统计的话，就是 2* int大小的数组，不行。需要离散化到2*m范围内。（这个离散化既可以使用书中的方式，又可以使用hashmap等）\n"
   ]
  },
  {
   "cell_type": "code",
   "execution_count": null,
   "metadata": {},
   "outputs": [],
   "source": [
    "from collections import Counter\n",
    "\n",
    "n = int(input())\n",
    "a = list(map(int,input().split()))          # 统计n个人会的语言\n",
    "m = int(input())\n",
    "B = list(map(int,input().split()))          # 统计语音的m个语言\n",
    "C = list(map(int,input().split()))          # 统计字幕的m个语言\n",
    "\n",
    "count = Counter(a)\n",
    "M = 0\n",
    "Mc = 0\n",
    "ans = 0\n",
    "for i, (b,c) in enumerate(zip(B,C),1):\n",
    "    b_count = count[b]                      # 统计会b语言的有几个\n",
    "    c_count = count[c]                      # 统计会c语言的有几个\n",
    "    if (b_count > M) or (b_count == M and c_count > M):\n",
    "        M = b_count\n",
    "        Mc = c_count\n",
    "        ans = i\n",
    "print(ans)\n",
    "# 这里的for循环也可以用下面的思想代替：\n",
    "# 对电影进行排序，但是比较的key是自己定义的，根据统计会语言人数和会字幕人数的比较"
   ]
  },
  {
   "cell_type": "markdown",
   "metadata": {},
   "source": [
    "3. 中位数：动态维护序列的中位数\n",
    "\n",
    "3.1 货仓选址\n",
    "在一条数轴上有N家商店，它们的坐标分别为 A[l]~A[N] 。现在需要在轴上立一家货仓，每天清晨，从货仓到每家商店都要运送一车商品。为了提高效率 ，求把货仓建在何处，可以使得货仓到每家商店的距离之和最小。\n",
    "\n",
    "* 题解：\n",
    "  * 把A[1]~A[N]排序\n",
    "  * 设坐标在X处，X左侧有P家商店，右侧有Q家商店，若P\\< Q，则每把货仓的选址向右移动1单位，距离之和就会变小 Q-P。P \\> Q同理。因此 P=Q时是最优解\n",
    "  * 当N为奇数时：货仓建在A[(N+1)/2]。当N为偶数时，货仓建在A[N/2]~A[N/2+1]直接都可。\n",
    "\n",
    "3.2 七夕祭 (**这个问题太难了，这里跳过了**)\n"
   ]
  },
  {
   "cell_type": "markdown",
   "metadata": {},
   "source": [
    "3.3 Running Median\n",
    "\n",
    "动态维护中位数：依次读入一个整数序列，每当已经读入的整数个数为奇数时，输出已读入的整数构成的序列的中位数\n",
    "* 题解：\n",
    "  * 对顶堆：\n",
    "    * 建立一个大根堆、一个小根堆，依次读入序列，假设当前序列长度为M\n",
    "    * 序列从小到大排名为 1~ M/2的整数存储在大根堆中\n",
    "    * 序列从小到大排名为 M/2+1~M的整数存储在小根堆中\n",
    "    * 任何时候，如果某个堆中元素个数过多，打破了上诉两个性质，就取出堆顶插入另一个堆中\n",
    "    * 读入新的数值X后，如果X比中位数小，则插入大根堆，否则插入小根堆\n",
    "    * 当M为奇数，中位数在小根堆，当M为偶数，两个堆的堆顶元素都是中位数\n",
    "  * 链表+Hash"
   ]
  },
  {
   "cell_type": "markdown",
   "metadata": {},
   "source": [
    "4. 第k大数/第k小数\n",
    "\n",
    "* 快排的思想：\n",
    "  * 每层递归中，随机选取一个数作为基准\n",
    "  * 把比它大的数交换到 “左半段”\n",
    "  * 把其余的数和基准值自身一起作为 “右半段”\n",
    "* 借鉴快排思想：\n",
    "  * 每次选取基准值后，我们可以统计出大于基准的数的数量 cnt \n",
    "  * 如果 k \\< cnt，我们在左半段中查找第k大数\n",
    "  * 如果 k \\> cnt，我们在右半段寻找第k-cnt大数。\n",
    "  * 时间复杂度为 O(n)\n"
   ]
  },
  {
   "cell_type": "markdown",
   "metadata": {},
   "source": [
    "5. 逆序对：对于一个序列a，若 i \\< j 且 a[i] \\> a[j]，则称a[i]与a[j]构成逆序对\n",
    "\n",
    "* 思想\n",
    "  * 归并排序思想\n",
    "    * 可以借助归并排序的过程，在O(nlogn)时间内求出一个长度为n的序列中逆序对的个数\n",
    "    * 归并排序，每次合并两个有序序列\n",
    "    * 递归处理左右两半排序时，已经可以把两半各自内部的逆序对数作为子问题处理，合并的时候再考虑一下，把这一块加上就行\n",
    "  * 树状数组思想\n"
   ]
  },
  {
   "cell_type": "code",
   "execution_count": null,
   "metadata": {},
   "outputs": [],
   "source": [
    "def merge(l,mid,r):\n",
    "    # 合并a[l~mid]与a[mid~r]\n",
    "    # a是待排序数组，b是临时数组，cnt是逆序对个数\n",
    "    i,j = l,mid+1           # 从这个赋值可以看出来，划分的数组，右侧比左侧数据少，所以有下面的 j > r的判断\n",
    "    for k in range(l,r+1):\n",
    "        if (j > r or i < mid and a[i] <= a[j]):\n",
    "            b[k]= a[i]\n",
    "            i+=1\n",
    "        else:\n",
    "            b[k] = a[j]\n",
    "            j+=1\n",
    "            cnt += mid - i + 1\n",
    "    for k in range(l,r+1):          # 将临时数组拷贝回去\n",
    "        a[k] = b[k]"
   ]
  },
  {
   "cell_type": "markdown",
   "metadata": {},
   "source": [
    "5.1 Ultra-QuickSort\n",
    "\n",
    "给定一个长度为n的序列a，如果只允许进行比较和交换相邻两个数的操作，求至少需要多少次交换才能把a从小到大排序\n",
    "\n",
    "* 题解\n",
    "  * 只通过比较和交换相邻两个数值的排序方法，实际就是冒泡排序\n",
    "  * 在排序过程中，每找到一对大小颠倒的相邻数值，交换它们，就会使整个序列对个数减少1\n",
    "  * 排好序后，逆序对个数显然是0，所以最少交换次数就是a中的逆序对个数"
   ]
  },
  {
   "cell_type": "markdown",
   "metadata": {},
   "source": [
    "5.2 奇数码问题 （数学证明太难了，这里就不引入了）"
   ]
  }
 ],
 "metadata": {
  "interpreter": {
   "hash": "323a355a91f16e24c197b81703c481d440602a1a24d7cfb13894e0f7c92a69fa"
  },
  "kernelspec": {
   "display_name": "Python 3.7.10 64-bit ('dassl': conda)",
   "language": "python",
   "name": "python3"
  },
  "language_info": {
   "codemirror_mode": {
    "name": "ipython",
    "version": 3
   },
   "file_extension": ".py",
   "mimetype": "text/x-python",
   "name": "python",
   "nbconvert_exporter": "python",
   "pygments_lexer": "ipython3",
   "version": "3.6.8"
  },
  "orig_nbformat": 4
 },
 "nbformat": 4,
 "nbformat_minor": 2
}
