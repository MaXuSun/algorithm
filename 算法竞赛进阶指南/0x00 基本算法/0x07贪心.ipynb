{
 "cells": [
  {
   "cell_type": "markdown",
   "metadata": {},
   "source": [
    "* 贪心\n",
    "\n",
    "贪心是一种在每次决策时都采取当前意义下最优策略的算法，因此，使用贪心算法要求问题的整体最优性可以由局部最优性导出。\n",
    "\n",
    "看了大雪菜的视频可以发现，贪心的题目一般是拍脑袋的题目。记住常见的贪心题目，然后遇到新题目往上面套就行"
   ]
  },
  {
   "cell_type": "markdown",
   "metadata": {},
   "source": [
    "1. Sunscreen  [Acwing110](https://www.acwing.com/problem/content/description/112/)\n",
    "\n",
    "有 C 头奶牛进行日光浴，第 i 头奶牛需要 minSPF[i] 到 maxSPF[i] 单位强度之间的阳光。\n",
    "每头奶牛在日光浴前必须涂防晒霜，防晒霜有 L 种，涂上第 i 种之后，身体接收到的阳光强度就会稳定为 SPF[i]，第 i 种防晒霜有 cover[i] 瓶。\n",
    "求最多可以满足多少头奶牛进行日光浴\n",
    "\n",
    "* [题解在这里](https://www.acwing.com/solution/content/785/)\n",
    "* 算法流程：\n",
    "  * 将所有奶牛按照 minSPF 从大到小的顺序排序，然后依次考虑每头奶牛；\n",
    "  * 对于每头奶牛，扫描当前所有能用的防晒霜，选择 SPF 值最大的防晒霜来用；"
   ]
  },
  {
   "cell_type": "code",
   "execution_count": null,
   "metadata": {},
   "outputs": [],
   "source": [
    "\"\"\"读入数据\"\"\"\n",
    "C,L = list(map(int,input().split()))\n",
    "CSPF,SPF_cover= [],[]\n",
    "for i in range(C):\n",
    "    CSPF.append(list(map(int,input().split())))\n",
    "for i in range(L):\n",
    "    SPF_cover.append(list(map(int,input().split())))\n",
    "\n",
    "CSPF.sort(key=lambda x: x[0],reverse=True)          # 按照初始时间排序\n",
    "SPF_cover.sort(key=lambda x: x[0],reverse=True)     # 按照 SPF 排序\n",
    "\n",
    "result = 0\n",
    "for cow in CSPF:                                    # 先遍历牛\n",
    "    for spf in SPF_cover:                           # 再遍历SPF\n",
    "        if spf[1] > 0 and spf[0] <= cow[1] and spf[0] >= cow[0]:\n",
    "            result +=1\n",
    "            spf[1] -= 1\n",
    "            break\n",
    "print(result)\n",
    "        "
   ]
  },
  {
   "cell_type": "markdown",
   "metadata": {},
   "source": [
    "2. Stall Reservations [Acwing](https://www.acwing.com/problem/content/description/113/)\n",
    "\n",
    "有 N 头牛在畜栏中吃草。\n",
    "每个畜栏在同一时间段只能提供给一头牛吃草，所以可能会需要多个畜栏。\n",
    "给定 N 头牛和每头牛开始吃草的时间 A 以及结束吃草的时间 B，每头牛在 [A,B] 这一时间段内都会一直吃草。\n",
    "当两头牛的吃草区间存在交集时（包括端点），这两头牛不能被安排在同一个畜栏吃草。\n",
    "\n",
    "* 算法流程\n",
    "  * 按照奶牛吃草的开始时间对奶牛进行排序\n",
    "  * 维护一个数组S，用来模拟畜栏，记录畜栏中结束时间\n",
    "  * 对于每头牛，找到结束时间最小的畜栏，然后判断能不能放到这个畜栏，能就更新畜栏结束时间，不能就新开一个畜栏"
   ]
  },
  {
   "cell_type": "code",
   "execution_count": null,
   "metadata": {},
   "outputs": [],
   "source": [
    "from queue import PriorityQueue\n",
    "N = int(input())\n",
    "Ceat = [list(map(int,input().split()))+[None,i] for i in range(N)]\n",
    "Ceat.sort(key=lambda x:x[0])\n",
    "stall = PriorityQueue()\n",
    "\n",
    "result = 1\n",
    "for c in Ceat:\n",
    "    item0 = stall.queue[0] if not stall.empty() else None\n",
    "    if not stall.empty() and item0[0] < c[0]:  # 如果不为空并且堆顶的畜栏可以放下这个奶牛，就放在这个畜栏\n",
    "            head = stall.get()\n",
    "            head[0] = c[1]\n",
    "            stall.put(head)\n",
    "            c[-2] = head[1]\n",
    "    else:                               # 否则就新建一个畜栏\n",
    "        stall.put([c[1],result])\n",
    "        c[-2] = result\n",
    "        result +=1\n",
    "Ceat.sort(key=lambda x:x[-1])\n",
    "print(result-1)\n",
    "for c in Ceat:\n",
    "    print(c[-2])"
   ]
  },
  {
   "cell_type": "markdown",
   "metadata": {},
   "source": [
    "3. 雷达设备 [Acwing](https://www.acwing.com/problem/content/description/114/)\n",
    "\n",
    "假设海岸是一条无限长的直线，陆地位于海岸的一侧，海洋位于另外一侧。\n",
    "每个小岛都位于海洋一侧的某个点上。\n",
    "雷达装置均位于海岸线上，且雷达的监测范围为 d，当小岛与某雷达的距离不超过 d 时，该小岛可以被雷达覆盖。\n",
    "我们使用笛卡尔坐标系，定义海岸线为 x 轴，海的一侧在 x 轴上方，陆地一侧在 x 轴下方。\n",
    "现在给出每个小岛的具体坐标以及雷达的检测范围，请你求出能够使所有小岛都被雷达覆盖所需的最小雷达数目。\n",
    "\n",
    "* 题解\n",
    "  * 把每个小岛可被检测的范围在x轴上的映射求出来，假如小岛的位置为 (x,y)，那么检测范围就是 [$x-\\sqrt{d^2-y^2}$,$x+\\sqrt{d^2-y^2}$]\n",
    "  * 问题转换为，已知n个线段，最少多少个点可以使这些线段包含至少一个点\n",
    "\n",
    "这里对线段，根据线段的右端点进行排序，**因为这样才能保证找到的点坐标是严格递增的。我第一次写就是这里错了**"
   ]
  },
  {
   "cell_type": "code",
   "execution_count": 1,
   "metadata": {},
   "outputs": [
    {
     "name": "stdout",
     "output_type": "stream",
     "text": [
      "2\n"
     ]
    }
   ],
   "source": [
    "import math\n",
    "n,d = list(map(int,input().split()))\n",
    "raders = [list(map(int,input().split())) for _ in range(n)]\n",
    "lines = []\n",
    "for rader in raders:\n",
    "    if rader[1] > d:\n",
    "        print(-1)\n",
    "        exit(0)\n",
    "    temp = math.sqrt(d**2-rader[1]**2)\n",
    "    lines.append([rader[0]-temp,rader[0]+temp])\n",
    "\n",
    "lines.sort(key=lambda x: x[1])\n",
    "result = 0\n",
    "rader_range = -math.inf\n",
    "for line in lines:\n",
    "    if line[0] > rader_range:\n",
    "        rader_range = line[1]\n",
    "        result +=1\n",
    "print(result)\n",
    "\n"
   ]
  },
  {
   "cell_type": "markdown",
   "metadata": {},
   "source": [
    "4. 国王游戏 [Acwing](https://www.acwing.com/problem/content/116/)\n",
    "\n",
    "恰逢 H 国国庆，国王邀请 n 位大臣来玩一个有奖游戏。\n",
    "首先，他让每个大臣在左、右手上面分别写下一个整数，国王自己也在左、右手上各写一个整数。\n",
    "然后，让这 n 位大臣排成一排，国王站在队伍的最前面。\n",
    "排好队后，所有的大臣都会获得国王奖赏的若干金币，每位大臣获得的金币数分别是:\n",
    "排在该大臣前面的所有人的左手上的数的乘积除以他自己右手上的数，然后向下取整得到的结果。\n",
    "国王不希望某一个大臣获得特别多的奖赏，所以他想请你帮他重新安排一下队伍的顺序，使得获得奖赏最多的大臣，所获奖赏尽可能的少。\n",
    "注意，国王的位置始终在队伍的最前面。\n",
    "\n",
    "* 题解\n",
    "  * 思维比较跳跃：按照每个大臣左、右手上的数的乘积从小到大排序，就是最优排队方案\n",
    "  * **错误解法：**一般人刚开始都会想着先对左手排序，然后对右手排序，这种是错误的，可以举反例。\n",
    "  * 这个证明比较简单，能看懂\n",
    "  * C++选手这里需要处理高精度的问题，python不用处理"
   ]
  },
  {
   "cell_type": "code",
   "execution_count": 2,
   "metadata": {},
   "outputs": [
    {
     "name": "stdout",
     "output_type": "stream",
     "text": [
      "100000000\n"
     ]
    }
   ],
   "source": [
    "n = int(input())\n",
    "king_hand = list(map(int,input().split()))                  # 读入国王手上的数字\n",
    "hands = [list(map(int,input().split())) for _ in range(n)]  # 读入大臣手上的数字\n",
    "hands.sort(key=lambda x:x[0]*x[1])                          # 排序\n",
    "max_num = 0\n",
    "sum_mul = king_hand[0]\n",
    "for hand in hands:\n",
    "    max_num = max(max_num,sum_mul//hand[1])\n",
    "    sum_mul *= hand[0]\n",
    "print(max_num)"
   ]
  },
  {
   "cell_type": "markdown",
   "metadata": {},
   "source": [
    "5. 给树染色 [Acwing](https://www.acwing.com/problem/content/description/117/)\n",
    "\n",
    "一颗树有 n 个节点，这些节点被标号为：1,2,3…n，每个节点 i 都有一个权值 A[i]。\n",
    "现在要把这棵树的节点全部染色，染色的规则是：\n",
    "根节点 R 可以随时被染色；对于其他节点，在被染色之前它的父亲节点必须已经染上了色。\n",
    "每次染色的代价为 T×A[i]，其中 T 代表当前是第几次染色。\n",
    "求把这棵树染色的最小总代价。\n",
    "\n",
    "* [题解](https://www.acwing.com/solution/content/1065/)\n",
    "  * 每次找当前权重最大的非根节点，将其染色顺序排在紧随父节点之后的位置，然后给该点合并进父节点中，更新父节点的权重，直到将所有点都合并进根节点为止。\n",
    "  * 这个题目挺难的"
   ]
  },
  {
   "cell_type": "code",
   "execution_count": null,
   "metadata": {},
   "outputs": [],
   "source": [
    "#使用一个字典来表示一个节点 {'f':None,'s':None,'v':None,'avg':None}        \n",
    "def find(nodes,R):                                      # 找到avg值最大的节点\n",
    "    avg,res = 0,-1\n",
    "    for i in range(1,n+1):\n",
    "        if i != R and nodes[i]['avg'] > avg:\n",
    "            avg = nodes[i]['avg']\n",
    "            res = i\n",
    "    return res\n",
    "\n",
    "n,R = list(map(int,input().split()))\n",
    "nodes = [None]\n",
    "res = 0\n",
    "for val in list(map(int,input().split())):              # 读入节点权重\n",
    "    nodes.append({'f':-1,'s':1,'v':val,'avg':val})\n",
    "    res += val\n",
    "\n",
    "for _ in range(n-1):                                    # 读入父子关系\n",
    "    f,c = list(map(int,input().split()))\n",
    "    nodes[c]['f'] = f\n",
    "\n",
    "for i in range(n-1):\n",
    "    nd = find(nodes,R)             \n",
    "    f = nodes[nd]['f']                                  # avg最大的这个node的父节点\n",
    "    res += nodes[nd]['v']*nodes[f]['s']\n",
    "    nodes[nd]['avg'] = -2                               # 去掉这个节点\n",
    "    for j in range(1,n+1):                              # 把这个节点所有的子节点指向父亲\n",
    "        if nodes[j]['f'] == nd:\n",
    "            nodes[j]['f'] = f\n",
    "    \n",
    "    nodes[f]['v'] += nodes[nd]['v']                     # 更新新节点信息\n",
    "    nodes[f]['s'] += nodes[nd]['s']\n",
    "    nodes[f]['avg'] = nodes[f]['v']/nodes[f]['s']\n",
    "print(res)"
   ]
  }
 ],
 "metadata": {
  "interpreter": {
   "hash": "4bf5ffbeb8bb60b501bd370f4f30f4e42d71afa6b8bb033ca8128ca692dcec38"
  },
  "kernelspec": {
   "display_name": "Python 3.6.8 64-bit",
   "language": "python",
   "name": "python3"
  },
  "language_info": {
   "codemirror_mode": {
    "name": "ipython",
    "version": 3
   },
   "file_extension": ".py",
   "mimetype": "text/x-python",
   "name": "python",
   "nbconvert_exporter": "python",
   "pygments_lexer": "ipython3",
   "version": "3.6.8"
  },
  "orig_nbformat": 4
 },
 "nbformat": 4,
 "nbformat_minor": 2
}
