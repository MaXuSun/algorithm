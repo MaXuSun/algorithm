{
 "cells": [
  {
   "cell_type": "markdown",
   "metadata": {},
   "source": [
    "1. 递推和递归的宏观描述\n",
    "\n",
    "* 使用前提    \n",
    "程序在每个步骤上应该面对相同种类的问题，这些问题都是原问题的一个子问题，可能仅在规模或者某些限制条件上有所区别，并且能够使用“求解源问题的程序”进行求解"
   ]
  },
  {
   "cell_type": "markdown",
   "metadata": {},
   "source": [
    "2. 递推与递归的简单应用\n"
   ]
  },
  {
   "cell_type": "markdown",
   "metadata": {},
   "source": [
    "2.1 递归实现指数型枚举   \n",
    "从1~n这n个整数中随机选取任意多个，输出所有可能的选择方案"
   ]
  },
  {
   "cell_type": "markdown",
   "metadata": {},
   "source": [
    "2.1.1 回溯解法    \n",
    "下面给了回溯解法的代码，除此之外还有：    \n",
    "lowbit + hash解法： 遍历$2^1$~$2^n$"
   ]
  },
  {
   "cell_type": "code",
   "execution_count": null,
   "metadata": {},
   "outputs": [],
   "source": [
    "chosen = []         # 用于记录被选择的数\n",
    "def calc(x):\n",
    "    if x == n + 1:      # 问题边界，待选择的x已经超出n了\n",
    "        for i in range(len(chosen)):\n",
    "            print(chosen[i])\n",
    "        return None\n",
    "\n",
    "    # 不选x分支：跳过x去选择x+1\n",
    "    calc(x+1)\n",
    "    # 选择x分支\n",
    "    chosen.append(x)        # 记录x被选择\n",
    "    calc(x+1)               # 求解子问题\n",
    "    chosen.pop()            # 准备回溯到上一个问题之前，还原现场\n",
    "\n",
    "def main():\n",
    "    calc(1)\n",
    "        "
   ]
  },
  {
   "cell_type": "markdown",
   "metadata": {},
   "source": [
    "2.2 递归实现组合型枚举\n",
    "\n",
    "从1~n这n个整数中随机选出$m(0 \\leqslant m \\leqslant n < 20)$个，输出所有可能的选择方案"
   ]
  },
  {
   "cell_type": "code",
   "execution_count": null,
   "metadata": {},
   "outputs": [],
   "source": [
    "def calc(x):\n",
    "    if len(chosen) > m or len(chosen) + (n-x+1) < m:        # 剪枝过程\n",
    "        return\n",
    "    if x == n + 1:      # 问题边界，待选择的x已经超出n了\n",
    "        for i in range(len(chosen)):\n",
    "            print(chosen[i])\n",
    "        return None\n",
    "\n",
    "    # 不选x分支：跳过x去选择x+1\n",
    "    calc(x+1)\n",
    "    # 选择x分支\n",
    "    chosen.append(x)        # 记录x被选择\n",
    "    calc(x+1)               # 求解子问题\n",
    "    chosen.pop()            # 准备回溯到上一个问题之前，还原现场"
   ]
  },
  {
   "cell_type": "markdown",
   "metadata": {},
   "source": [
    "2.3 全排列    \n",
    "把1~n这$n(n<10)$个整数排成一行后随机打乱顺序，输出可能的次序"
   ]
  },
  {
   "cell_type": "code",
   "execution_count": null,
   "metadata": {},
   "outputs": [],
   "source": [
    "order = []\n",
    "chosen = [False] * 20\n",
    "\n",
    "def calc(k):                    # k是选择了多少个数\n",
    "    if k == n+1:                # 边界问题\n",
    "        for ord in order:\n",
    "            print(ord,' ')\n",
    "            \n",
    "    for i in range(n):\n",
    "        if chosen[i]: continue\n",
    "        order.append(i)\n",
    "        chosen[i] = True\n",
    "        calc(k+1)\n",
    "        chosen[i] = False\n",
    "        order.pop()\n",
    "def main():\n",
    "    calc(1)\n",
    "\n"
   ]
  },
  {
   "cell_type": "markdown",
   "metadata": {},
   "source": [
    "2.4 费解的开关"
   ]
  },
  {
   "cell_type": "markdown",
   "metadata": {},
   "source": [
    "2.5 Strange Towers of Hanoi\n"
   ]
  },
  {
   "cell_type": "markdown",
   "metadata": {},
   "source": [
    "3. 分治"
   ]
  },
  {
   "cell_type": "markdown",
   "metadata": {},
   "source": [
    "4. 分形"
   ]
  },
  {
   "cell_type": "markdown",
   "metadata": {},
   "source": [
    "5. 递归的机器实现"
   ]
  }
 ],
 "metadata": {
  "interpreter": {
   "hash": "4bf5ffbeb8bb60b501bd370f4f30f4e42d71afa6b8bb033ca8128ca692dcec38"
  },
  "kernelspec": {
   "display_name": "Python 3.6.8 64-bit (system)",
   "name": "python3"
  },
  "language_info": {
   "name": "python",
   "version": "3.6.8"
  },
  "orig_nbformat": 4
 },
 "nbformat": 4,
 "nbformat_minor": 2
}
