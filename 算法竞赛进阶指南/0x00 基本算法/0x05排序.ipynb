{
 "cells": [
  {
   "cell_type": "markdown",
   "metadata": {},
   "source": [
    "* 排序，可以分为下面三类：\n",
    "  * 时间复杂度为$O(n^2)$：选择排序、插入排序、冒泡排序\n",
    "  * 时间复杂度为$O(nlogn)$: 堆排序、归并排序、快速排序\n",
    "  * 计数排序、基数排序、桶排序\n"
   ]
  },
  {
   "cell_type": "markdown",
   "metadata": {},
   "source": [
    "1. 先实现这些排序算法"
   ]
  },
  {
   "cell_type": "code",
   "execution_count": 26,
   "metadata": {},
   "outputs": [
    {
     "name": "stdout",
     "output_type": "stream",
     "text": [
      "[0, 9, 38, 42, 23, 33, 18, 28, 39, 13]\n",
      "[0, 9, 13, 18, 23, 28, 33, 38, 39, 42]\n",
      "[41, 17, 11, 17, 50, 11, 12, 22, 10, 0]\n",
      "[0, 10, 11, 11, 12, 17, 17, 22, 41, 50]\n",
      "[27, 0, 18, 11, 50, 32, 34, 44, 30, 12]\n",
      "[0, 11, 12, 18, 27, 30, 32, 34, 44, 50]\n",
      "9\n",
      "8\n",
      "[14, 21, 19, 3, 15, 32, 29, 43, 6, 2]\n",
      "3\n",
      "7\n",
      "[14, 21, 19, 6, 15, 32, 29, 43, 3, 2]\n",
      "3\n",
      "[14, 21, 19, 43, 15, 32, 29, 6, 3, 2]\n",
      "1\n",
      "[14, 43, 19, 21, 15, 32, 29, 6, 3, 2]\n",
      "0\n",
      "[43, 14, 19, 21, 15, 32, 29, 6, 3, 2]\n",
      "-1\n",
      "6\n",
      "[2, 14, 19, 21, 15, 32, 29, 6, 3, 43]\n",
      "2\n",
      "[2, 14, 29, 21, 15, 32, 19, 6, 3, 43]\n",
      "0\n",
      "5\n",
      "[29, 14, 2, 21, 15, 32, 19, 6, 3, 43]\n",
      "2\n",
      "[29, 14, 32, 21, 15, 2, 19, 6, 3, 43]\n",
      "0\n",
      "4\n",
      "[32, 14, 29, 21, 15, 2, 19, 6, 3, 43]\n",
      "1\n",
      "3\n",
      "[32, 15, 29, 21, 14, 2, 19, 6, 3, 43]\n",
      "1\n",
      "2\n",
      "[32, 21, 29, 15, 14, 2, 19, 6, 3, 43]\n"
     ]
    }
   ],
   "source": [
    "import random\n",
    "def display(sort_func):\n",
    "    array = [random.randint(0,50) for _ in range(10)]\n",
    "    print(array)\n",
    "    sort_func(array)\n",
    "    print(array)\n",
    "# 1.选择排序\n",
    "def select_sort(array):\n",
    "    for i in range(len(array)-1,-1,-1):\n",
    "        max_index = 0\n",
    "        for j in range(i+1):\n",
    "            max_index = j if array[j] > array[max_index] else max_index     # 记录最大值下标\n",
    "        array[max_index],array[i] = array[i],array[max_index]               # 交换数据\n",
    "display(select_sort)\n",
    "\n",
    "# 2. 插入排序\n",
    "def insert_sort(array):\n",
    "    for i in range(1,len(array)):\n",
    "        insert_index = i-1\n",
    "        insert_val = array[i]\n",
    "        while insert_index >= 0 and array[insert_index] > insert_val:\n",
    "            array[insert_index+1] = array[insert_index]\n",
    "            insert_index -= 1\n",
    "        array[insert_index+1] = insert_val      # 为什么要+1,因为跳出循环后 insert_index = -1 或者 array[insert_index] <= inset_val\n",
    "display(insert_sort)\n",
    "\n",
    "# 3. 冒泡排序\n",
    "def bubble_sort(array):\n",
    "    for i in range(len(array)-1,-1,-1):\n",
    "        for j in range(i+1):\n",
    "            if array[j] > array[i]:\n",
    "                array[j],array[i] = array[i],array[j]\n",
    "display(bubble_sort)\n",
    "\n",
    "# 4. 堆排序，比较麻烦，需要创建堆和调整堆\n",
    "# 4.1 创建堆\n",
    "\n",
    "# 5. 归并排序\n",
    "\n",
    "# 6. 快速排序\n",
    "\n",
    "\n"
   ]
  }
 ],
 "metadata": {
  "interpreter": {
   "hash": "323a355a91f16e24c197b81703c481d440602a1a24d7cfb13894e0f7c92a69fa"
  },
  "kernelspec": {
   "display_name": "Python 3.7.10 64-bit ('dassl': conda)",
   "language": "python",
   "name": "python3"
  },
  "language_info": {
   "codemirror_mode": {
    "name": "ipython",
    "version": 3
   },
   "file_extension": ".py",
   "mimetype": "text/x-python",
   "name": "python",
   "nbconvert_exporter": "python",
   "pygments_lexer": "ipython3",
   "version": "3.6.8"
  },
  "orig_nbformat": 4
 },
 "nbformat": 4,
 "nbformat_minor": 2
}
