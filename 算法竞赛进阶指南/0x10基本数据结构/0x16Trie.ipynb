{
 "cells": [
  {
   "cell_type": "markdown",
   "metadata": {},
   "source": [
    "* Trie\n",
    "\n",
    "Trie(字典树)是一种用于实现字符串快速检索的多叉树结构。Trie的**每个节点都拥有若干个字符指针**。\n",
    "![Trie](./trie.png)\n",
    "* 操作\n",
    "  * 初始化：一颗空Trie仅包含一个根节点，改点的字符指针均指向空。\n",
    "  * 插入：当需要插入一个字符串S时，我们令一个指针P起初指向根节点。然后，依次扫描S中的每个字符c:\n",
    "    1. 若P的c字符指针指向一个已经存在的字节Q，则令P=Q\n",
    "    2. 若p的c字符指针指向空，则新建一个字节Q，令P的c字符指针指向Q，然后令P=Q。\n",
    "    * 搜索：当需要检索一个字符串S在Trie中是否存在时，令一个指针P起初指向根节点，然后依次扫描S中的每个字符c:\n",
    "      1. 若P的c字符指针指向空，则说明S没有被插入过Trie，结束检索。\n",
    "      2. 若P的c字符指针指向一个已经存在的节点Q，则令P=Q。\n",
    "* 其他\n",
    "  * 在节点中使用**单词结尾标记**来记录一个单词的结尾。"
   ]
  },
  {
   "cell_type": "code",
   "execution_count": null,
   "metadata": {},
   "outputs": [],
   "source": [
    "# 使用二维数组模拟Trie\n",
    "\n",
    "SIZE,index = 1000,1\n",
    "a_val = ord('a')\n",
    "trie = [[0]*27 for _ in range(SIZE)]           # 最后一个用来存储以该节点结尾的字符串有多少个\n",
    "\n",
    "def insert(_str):\n",
    "    global index\n",
    "\n",
    "    length,p = len(_str),1\n",
    "    for k in range(length):\n",
    "        char = ord(_str[k]) - a_val\n",
    "        if trie[p][char] == 0:\n",
    "            index +=1\n",
    "            trie[p][char] == index\n",
    "        p = trie[p][char]\n",
    "    \n",
    "    [p][-1] += 1                    # 标记这个字符串结尾了\n",
    "\n",
    "def search(_str):\n",
    "    length,p = len(_str),1\n",
    "    for k in range(length):\n",
    "        p = trie[p][ord(_str[k])-a_val]\n",
    "        if p == 0:\n",
    "            return False\n",
    "    return p[-1]\n"
   ]
  },
  {
   "cell_type": "markdown",
   "metadata": {},
   "source": [
    "1. 统计前缀 [Acwing142](https://www.acwing.com/problem/content/144/)\n",
    "\n",
    "* 题解\n",
    "  * 就是Trie的一个应用，构建一个Trie之后，去搜索字符串存不存在"
   ]
  },
  {
   "cell_type": "markdown",
   "metadata": {},
   "source": [
    "2. 最大异或对 [Acwing143](https://www.acwing.com/problem/content/145/)\n",
    "\n",
    "* 题解：\n",
    "  * 把树转成32位的01串，根据异或操作的特点，从头向下遍历，每次找相反的节点即可。\n"
   ]
  },
  {
   "cell_type": "markdown",
   "metadata": {},
   "source": [
    "3. 最长异或值路径 [Acwing](https://www.acwing.com/problem/content/146/)\n",
    "\n",
    "有点难，跳过"
   ]
  }
 ],
 "metadata": {
  "interpreter": {
   "hash": "4bf5ffbeb8bb60b501bd370f4f30f4e42d71afa6b8bb033ca8128ca692dcec38"
  },
  "kernelspec": {
   "display_name": "Python 3.6.8 64-bit (system)",
   "language": "python",
   "name": "python3"
  },
  "language_info": {
   "name": "python",
   "version": "3.6.8"
  },
  "orig_nbformat": 4
 },
 "nbformat": 4,
 "nbformat_minor": 2
}
