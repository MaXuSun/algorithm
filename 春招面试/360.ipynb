{
 "cells": [
  {
   "cell_type": "markdown",
   "metadata": {},
   "source": [
    "1. 小明玩通关游戏，每次通过第$i$关后，可以得到分数$a_i$，如果该关有宝物，则可以选择舍弃该关的分数，当已经获得的分数变成2倍。小明该按照哪种顺序闯关才能获得最大的分数，是多少？\n",
    "输入：第一行为关数n，后面n行输入，第一个为分数$a_i$，第二个为是否有宝物\n",
    "5\n",
    "1 1\n",
    "3 1\n",
    "5 1\n",
    "2 0\n",
    "2 0\n",
    "\n",
    "输出：36，闯关次序为 5,4,3,2(翻倍),1(翻倍)"
   ]
  },
  {
   "cell_type": "code",
   "execution_count": null,
   "metadata": {},
   "outputs": [],
   "source": [
    "n = int(input())\n",
    "nums = [list(map(int,input().split())) for _ in range(n)]\n",
    "nums.sort(key=lambda x:(x[1],-x[0]))\n",
    "res = 0\n",
    "for a,b in nums:\n",
    "    if b == 0:\n",
    "        res += a\n",
    "    else:\n",
    "        res = max(res*2,res+a)\n",
    "print(res)\n"
   ]
  },
  {
   "cell_type": "markdown",
   "metadata": {},
   "source": [
    "2. 有一个长方体，长宽高为R,L,C。现在被人偷走了一部分，变成一个(R-2)(L-1)(C-2)的长方体，现在知道剩下的长方体体积为$n$，则小偷最多偷了多少体积？\n",
    "输入：n    1<=n<=$10^9$\n",
    "4\n",
    "输出：41\n",
    "\n",
    "题解：\n",
    "注意，这道题目数据范围是$10^9$，O(n)的时间复杂度也会超时。只能优化到O(logn)时间才能AC      \n",
    "设被偷后的长方体长宽高是：a,b,c       \n",
    "则要我们求(a+2)*(b+1)(c+2)-abc的最大值max：        \n",
    "max = (a+2)(b+1)(c+2)-abc               \n",
    "        = (ab+2b+2+a)(c+2)-abc               \n",
    "        = abc + (2b+a+2)(c+2)+2ab-abc         \n",
    "        = (2b+a+2)(c+2)+2ab            \n",
    "我们固定c，则 ab = n/c，要想让max最大，则需要在ab=n/c的情况下，让2b+a最大，显然当a=1，b=n/c时最大：        \n",
    "        = (2n/c+3)(c+2)+2n/c           \n",
    "        = 2n+6n/c+3c+6          \n",
    "        = (2n+6) + 3(2n/c+c)        前面一项2n+6是定值，当$c=\\sqrt{2n}$时取得极值        "
   ]
  },
  {
   "cell_type": "code",
   "execution_count": null,
   "metadata": {},
   "outputs": [],
   "source": [
    "import math\n",
    "n = int(input())\n",
    "res = 0\n",
    "n2_add6 = 2*n+6\n",
    "n6 = 6*n\n",
    "\n",
    "for i in range(1,int(math.sqrt(2*n))+2):\n",
    "    if n%i != 0:\n",
    "        continue\n",
    "    # c = i\n",
    "    # b_2 = 2 * n//c\n",
    "    # res = max(res,(b_2+3)*(c+2)+b_2)\n",
    "    # res = max(res,n2+6+n6//c+3*c)\n",
    "    res = max(res,n6//i+3*i)\n",
    "print(res+n2_add6)"
   ]
  }
 ],
 "metadata": {
  "language_info": {
   "name": "python"
  },
  "orig_nbformat": 4
 },
 "nbformat": 4,
 "nbformat_minor": 2
}
