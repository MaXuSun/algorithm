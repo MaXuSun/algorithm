{
 "cells": [
  {
   "cell_type": "markdown",
   "metadata": {},
   "source": [
    "* 贪心\n",
    "\n",
    "贪心是一种在每次决策时都采取当前意义下最优策略的算法，因此，使用贪心算法要求问题的整体最优性可以由局部最优性导出。\n",
    "\n",
    "看了大雪菜的视频可以发现，贪心的题目一般是拍脑袋的题目。记住常见的贪心题目，然后遇到新题目往上面套就行"
   ]
  },
  {
   "cell_type": "markdown",
   "metadata": {},
   "source": [
    "1. Sunscreen  [Acwing110](https://www.acwing.com/problem/content/description/112/)\n",
    "\n",
    "有 C 头奶牛进行日光浴，第 i 头奶牛需要 minSPF[i] 到 maxSPF[i] 单位强度之间的阳光。\n",
    "每头奶牛在日光浴前必须涂防晒霜，防晒霜有 L 种，涂上第 i 种之后，身体接收到的阳光强度就会稳定为 SPF[i]，第 i 种防晒霜有 cover[i] 瓶。\n",
    "求最多可以满足多少头奶牛进行日光浴\n",
    "\n",
    "* [题解在这里](https://www.acwing.com/solution/content/785/)\n",
    "* 算法流程：\n",
    "  * 将所有奶牛按照 minSPF 从大到小的顺序排序，然后依次考虑每头奶牛；\n",
    "  * 对于每头奶牛，扫描当前所有能用的防晒霜，选择 SPF 值最大的防晒霜来用；"
   ]
  },
  {
   "cell_type": "code",
   "execution_count": null,
   "metadata": {},
   "outputs": [],
   "source": [
    "\"\"\"读入数据\"\"\"\n",
    "C,L = list(map(int,input().split()))\n",
    "CSPF,SPF_cover= [],[]\n",
    "for i in range(C):\n",
    "    CSPF.append(list(map(int,input().split())))\n",
    "for i in range(L):\n",
    "    SPF_cover.append(list(map(int,input().split())))\n",
    "\n",
    "CSPF.sort(key=lambda x: x[0],reverse=True)          # 按照初始时间排序\n",
    "SPF_cover.sort(key=lambda x: x[0],reverse=True)     # 按照 SPF 排序\n",
    "\n",
    "result = 0\n",
    "for cow in CSPF:                                    # 先遍历牛\n",
    "    for spf in SPF_cover:                           # 再遍历SPF\n",
    "        if spf[1] > 0 and spf[0] <= cow[1] and spf[0] >= cow[0]:\n",
    "            result +=1\n",
    "            spf[1] -= 1\n",
    "            break\n",
    "print(result)\n",
    "        "
   ]
  },
  {
   "cell_type": "markdown",
   "metadata": {},
   "source": [
    "2. Stall Reservations [Acwing](https://www.acwing.com/problem/content/description/113/)\n",
    "\n",
    "有 N 头牛在畜栏中吃草。\n",
    "每个畜栏在同一时间段只能提供给一头牛吃草，所以可能会需要多个畜栏。\n",
    "给定 N 头牛和每头牛开始吃草的时间 A 以及结束吃草的时间 B，每头牛在 [A,B] 这一时间段内都会一直吃草。\n",
    "当两头牛的吃草区间存在交集时（包括端点），这两头牛不能被安排在同一个畜栏吃草。\n",
    "\n",
    "* 算法流程\n",
    "  * 按照奶牛吃草的开始时间对奶牛进行排序\n",
    "  * 维护一个数组S，用来模拟畜栏，记录畜栏中结束时间\n",
    "  * 对于每头牛，找到结束时间最小的畜栏，然后判断能不能放到这个畜栏，能就更新畜栏结束时间，不能就新开一个畜栏"
   ]
  },
  {
   "cell_type": "code",
   "execution_count": null,
   "metadata": {},
   "outputs": [],
   "source": [
    "from queue import PriorityQueue\n",
    "N = int(input())\n",
    "Ceat = [list(map(int,input().split()))+[None,i] for i in range(N)]\n",
    "Ceat.sort(key=lambda x:x[0])\n",
    "stall = PriorityQueue()\n",
    "\n",
    "result = 1\n",
    "for c in Ceat:\n",
    "    item0 = stall.queue[0] if not stall.empty() else None\n",
    "    if not stall.empty() and item0[0] < c[0]:  # 如果不为空并且堆顶的畜栏可以放下这个奶牛，就放在这个畜栏\n",
    "            head = stall.get()\n",
    "            head[0] = c[1]\n",
    "            stall.put(head)\n",
    "            c[-2] = head[1]\n",
    "    else:                               # 否则就新建一个畜栏\n",
    "        stall.put([c[1],result])\n",
    "        c[-2] = result\n",
    "        result +=1\n",
    "Ceat.sort(key=lambda x:x[-1])\n",
    "print(result-1)\n",
    "for c in Ceat:\n",
    "    print(c[-2])\n"
   ]
  }
 ],
 "metadata": {
  "interpreter": {
   "hash": "4bf5ffbeb8bb60b501bd370f4f30f4e42d71afa6b8bb033ca8128ca692dcec38"
  },
  "kernelspec": {
   "display_name": "Python 3.6.8 64-bit",
   "language": "python",
   "name": "python3"
  },
  "language_info": {
   "codemirror_mode": {
    "name": "ipython",
    "version": 3
   },
   "file_extension": ".py",
   "mimetype": "text/x-python",
   "name": "python",
   "nbconvert_exporter": "python",
   "pygments_lexer": "ipython3",
   "version": "3.6.8"
  },
  "orig_nbformat": 4
 },
 "nbformat": 4,
 "nbformat_minor": 2
}
