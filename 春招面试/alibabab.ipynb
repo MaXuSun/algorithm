{
 "cells": [
  {
   "cell_type": "markdown",
   "metadata": {},
   "source": [
    "1. 给出a,b,c,d,m，求a<=x<=b,c<=y<=d,求(x*y)mod m的最大值。\n",
    "\n",
    "a,b,c,d <=1000"
   ]
  },
  {
   "cell_type": "code",
   "execution_count": null,
   "metadata": {},
   "outputs": [],
   "source": [
    "a,b,c,d,m = list(map(int,input().split()))\n",
    "res = 0\n",
    "for i in range(a,b+1):\n",
    "    for j in range(c,d+1):\n",
    "        res= max(res,i*j%m)\n",
    "print(res)"
   ]
  },
  {
   "cell_type": "markdown",
   "metadata": {},
   "source": [
    "2. 给定一个字符串s，任意交换两个不同位置的字符一次，求可以得到的不同的字符串的个数(1<=len(s)<=1e5)"
   ]
  },
  {
   "cell_type": "code",
   "execution_count": null,
   "metadata": {},
   "outputs": [],
   "source": [
    "from collections import Counter\n",
    "\n",
    "s=input()\n",
    "cnt=Counter(s)\n",
    "n=len(s)\n",
    "ans=0\n",
    "flag=0\n",
    "for v in cnt.values():\n",
    "    ans+=v*(n-v)\n",
    "    if v>1:\n",
    "        flag=1\n",
    "print(ans//2+flag)\n"
   ]
  },
  {
   "cell_type": "markdown",
   "metadata": {},
   "source": [
    "3.给出n个数字，可以对每个数字进行若干次切割，问最少几次切割能使得所有数字之和是k的倍数。 （1<=n,k<=200,1<=a[i]<=1e18）"
   ]
  },
  {
   "cell_type": "code",
   "execution_count": null,
   "metadata": {},
   "outputs": [],
   "source": [
    "n,k=list(map(eval,input().split()))\n",
    "a=input().split()\n",
    "dp=[[float('inf')]*k for i in range(n+1)]\n",
    "dp[0][0]=0\n",
    "for i in range(1,n+1):\n",
    "    cnt=[float('inf')]*k\n",
    "    size=len(a[i-1])\n",
    "\n",
    "    for x in range(1<<(size-1)):\n",
    "        last=0\n",
    "        use=0\n",
    "        cur=0\n",
    "        for y in range(size-1):\n",
    "            if x&(1<<y):\n",
    "                cur+=int(a[i-1][last:y+1])\n",
    "                last=y+1\n",
    "                use+=1\n",
    "        cur+=int(a[i-1][last:])\n",
    "        cur%=k\n",
    "        cnt[cur]=min(use,cnt[cur])\n",
    "    for x in range(k):\n",
    "        for y in range(k):\n",
    "            now=(x+y)%k\n",
    "            dp[i][now]=min(dp[i][now],dp[i-1][x]+cnt[y])\n",
    "print(dp[n][0])"
   ]
  }
 ],
 "metadata": {
  "language_info": {
   "name": "python"
  },
  "orig_nbformat": 4
 },
 "nbformat": 4,
 "nbformat_minor": 2
}
