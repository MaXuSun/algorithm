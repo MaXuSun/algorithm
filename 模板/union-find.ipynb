{
 "cells": [
  {
   "cell_type": "markdown",
   "metadata": {},
   "source": [
    "# 并查集\n",
    "\n",
    "1. 常见操作\n",
    "    * init: 初始化，每个元素独立，并指向自己，这样的话对于每个根节点，一定指向自己\n",
    "    * union :将两个合并\n",
    "    * connected: 查询两个元素是否在同一个集合中\n",
    "    * find: 找到一个节点的根节点"
   ]
  }
 ],
 "metadata": {
  "language_info": {
   "name": "python"
  },
  "orig_nbformat": 4
 },
 "nbformat": 4,
 "nbformat_minor": 2
}
