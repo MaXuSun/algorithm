{
 "cells": [
  {
   "cell_type": "markdown",
   "metadata": {},
   "source": [
    "* 二分\n",
    "\n",
    "二分法的基础用法是在单调序列或单调函数中查找。当问题的答案具有单调性时，就可以通过二分把求解转化为判定。**二分的实现方法多种多样，细节很多，只有10%的程序员能写对二分法**"
   ]
  },
  {
   "cell_type": "markdown",
   "metadata": {},
   "source": [
    "1. 整数集合上的二分 **这个很重要**\n",
    "\n",
    "下面根据两种情况，有两种写法，保证答案处于闭区间[l,r]以内，循环以l=r结束，每次二分的中间值 mid 会归属左半段与右半段两者之一。"
   ]
  },
  {
   "cell_type": "code",
   "execution_count": null,
   "metadata": {},
   "outputs": [],
   "source": [
    "# 在单调递增序列a中查找 >= x 的数中最小的一个（即x或者x的后继）\n",
    "while l < r :\n",
    "    mid = (l+r) >> 1\n",
    "    if a[mid] >= x:     # 根据a的单调性，后面的数会更大\n",
    "        r = mid\n",
    "    else:               # a[mid] < x,所以要将左侧下标标为 mid+1\n",
    "        l = mid + 1 \n",
    "# 在单调递增序列a中查找 <= x 的数中最大的一个（即x或者x的前驱）\n",
    "while l < r:\n",
    "    mid = (l+r+1) >> 1  # 这里如果不+1，当r-l=1时，(l+r)>>1 = l，如果进入if分支就会死循环\n",
    "    if a[mid] <= x:     # 同上\n",
    "        l = mid\n",
    "    else:               # 同上\n",
    "        r = mid - 1\n",
    "\n",
    "\"\"\"\n",
    "再分析：\n",
    "第一段代码里面的 mid = (l+r) >> 1，发现永远不会取到r这个值\n",
    "第二段代码里面的 mid = (l+r+1) >> 1，发现永远不会取到l这个值\n",
    "这样的话：\n",
    "对于第一段代码，扩大二分区间由 [1,n] --> [1,n+1]，如果最后二分终止于扩大后的这个越界下标 n+1 上，则说明a中不存在所求的数\n",
    "对于第二段代码，扩大二分区间由 [1,n] --> [0,n]， 如果最后二分终止于扩大后的这个越界下标 0 上，则说明a中不存在所求的数\n",
    "\"\"\""
   ]
  },
  {
   "cell_type": "markdown",
   "metadata": {},
   "source": [
    "* 总结：\n",
    "1. 对于求后继，缩小范围时 $r=mid,l=mid+1$，取中间值时，$mid=(l+r)>>1$。\n",
    "2. 对于求前驱，缩小范围时 $l=mid,r=mid-1$，取中间值时，$mid=(l+r=1)>>1$。\n",
    "3. 根据具体情况选择1和2不同的写法\n",
    "4. 二分终止条件是 l==r，就是答案所在位置"
   ]
  },
  {
   "cell_type": "markdown",
   "metadata": {},
   "source": [
    "2. 实数域上的二分\n",
    "\n",
    "确定好所需的精度 eps，以 l+eps < r 为循环条件，每次根据在mid上的判定选择r = mid 或 l = mid 分支之一即可。一般需要保留k位小数时，则取 $eps=10^{-(k+2)}$。如果不确定精度，可直接使用固定次数的二分方法"
   ]
  },
  {
   "cell_type": "code",
   "execution_count": null,
   "metadata": {},
   "outputs": [],
   "source": [
    "# 使用精度作为循环条件的写法\n",
    "while l + 1e-5 < r:\n",
    "    mid = (l+r) / 2\n",
    "    if calc(mid):\n",
    "        r = mid\n",
    "    else:\n",
    "        l = mid\n",
    "\n",
    "# 使用次数作为循环的写法\n",
    "for i in range(100):\n",
    "    mid = (l+r)/2\n",
    "    if calc(mid):\n",
    "        r = mid\n",
    "    else:\n",
    "        l = mid"
   ]
  },
  {
   "cell_type": "markdown",
   "metadata": {},
   "source": [
    "3. 三分求单峰函数极值\n",
    "* 定义\n",
    "  * 单峰函数：拥有唯一的极大值点\n",
    "  * 单谷函数：拥有唯一的极小值点\n",
    "* 以单峰函数为例子，函数定义在[l,r]上，任取两个点 lmid,rmid，把函数分成三段\n",
    "  * 若 f(lmid) < f(rmid)，令 l = lmid\n",
    "  * 若 f(lmid) > f(rmid)，令 r = rmid\n",
    "  * 若 f(lmid) = f(rmid)，令 l = lmid, r = rmid"
   ]
  },
  {
   "cell_type": "markdown",
   "metadata": {},
   "source": [
    "4. 二分答案转化为判定\n",
    "\n",
    "对于很多问题，我们很难直接求一个问题的解，但是我们可以对这些可行方案进行评估得到的数值构成函数的\"值域\"中的值进行判断，判断值域中是否存在一个值满足解。将求解问题 --> 判定问题。这样的话，我们可以通过二分的方法，将值域不断划分，从而得到满足条件的解。\n",
    "\n",
    "* 特点    \n",
    "如果一个题目出现了 **最大值最小** 的含义，这是答案具有单调性，可用二分转化为判定的最常见、最典型的特征之一。"
   ]
  },
  {
   "cell_type": "markdown",
   "metadata": {},
   "source": [
    "4.1 例题    \n",
    "N本书排成一行，已知第$i$本的厚度是$A_i$。把它们分成**连续的M**组，使T最小化，其中T表示厚度之和最大的一组的厚度。\n",
    "\n",
    "* 题解：分成两步\n",
    "  * 假设答案是S\n",
    "  * 使用贪心算法去装书\n",
    "    * 如果装完后，< M 组，那我们要搜索S以上的值域\n",
    "    * 如果装完后，> M 组，那我们要搜索S以下的值域\n",
    "  * 使用二分法来确定S，直到找到合适的S"
   ]
  },
  {
   "cell_type": "code",
   "execution_count": null,
   "metadata": {},
   "outputs": [],
   "source": [
    "def valid(S):\n",
    "    group = 1,rest = S\n",
    "    for i in range(n):\n",
    "        if rest >= a[i]:        # 如果能装下就装在这个组\n",
    "            rest-=a[i]\n",
    "        else:                   # 否则装在一个新的组\n",
    "            group +=1\n",
    "            rest = S-a[i]\n",
    "    return group <= m\n",
    "def main():\n",
    "    l,r = 0,sum(a)\n",
    "    while l < r:                # 显然这里是求后继\n",
    "        mid = (l+r) / 2\n",
    "        if valid(mid):\n",
    "            r = mid\n",
    "        else:\n",
    "            l = mid + 1\n",
    "    print(l)"
   ]
  },
  {
   "cell_type": "markdown",
   "metadata": {},
   "source": [
    "4.2 Best Cow Fences  \n",
    "给定正整数数列A，求一个平均数最大的、长度不小于L的（连续的）子段。\n",
    "\n",
    "* 解题步骤：\n",
    "  1. 先转为判定问题：是否存在一个长度不小于L的子段，平均数**不小于**二分的值\n",
    "  2. 把数列值都**减去平均数**，问题转为判定**是否存在一个长度不小于L的子段，子段和非负**\n",
    "  3. 设 $sum_i$ 表示 $A_1 ~ A_i$。则**子段和**可以表示为 $\\max_{i-j \\geqslant L} \\{A_{j+1}+A_{j+2}+...+A_i\\} = \\max_{L \\leqslant i \\leqslant n} \\{sum_i - \\min_{0 \\leqslant i-L}\\{sum_j\\}\\}$\n",
    "  4. 观察上式发现，我们只要求出0~i-L的最小子段和，就可以判断步骤2是否存在"
   ]
  }
 ],
 "metadata": {
  "interpreter": {
   "hash": "4bf5ffbeb8bb60b501bd370f4f30f4e42d71afa6b8bb033ca8128ca692dcec38"
  },
  "kernelspec": {
   "display_name": "Python 3.6.8 64-bit",
   "language": "python",
   "name": "python3"
  },
  "language_info": {
   "name": "python",
   "version": "3.6.8"
  },
  "orig_nbformat": 4
 },
 "nbformat": 4,
 "nbformat_minor": 2
}
