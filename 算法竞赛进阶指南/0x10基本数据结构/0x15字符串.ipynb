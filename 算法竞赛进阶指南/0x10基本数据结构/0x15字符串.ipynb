{
 "cells": [
  {
   "cell_type": "markdown",
   "metadata": {},
   "source": [
    "* 字符串\n",
    "\n",
    "这节就讲一个知识点：KMP模式匹配。\n",
    "\n",
    "如果只是找出子串的话，上一届的字符串Hash也可以在O(N)时间找出来。\n",
    "\n",
    "\n",
    "* 算法：算法分成两部分，一部分是求next数组，一部分是大循环进行匹配。其中S：文本串，P：模式串\n",
    "  * next数组：当前字符中的字符串中，有多大长度的相同前缀后缀，例如，如果next[j]=k，代表j之前的字符串中有很大长度为k的相同前缀后缀。\n",
    "  * 大循环\n",
    "    * 如果j=-1（**说明上一次第一个字符就失败了**），或者当前字符匹配成功（即S[i]==p[j]），则j++,i++，继续匹配下一个字符；\n",
    "    * 如果j!=-1，且当前字符匹配失败（即S[i]!=P[j]），则令i不变，j=next[j]。此举意味着失配时，模式串P相对于文本串S向右移动了j-next[j]位\n",
    "      * 换言之，当匹配失败时，模式串向右移动的位数为：失配字符所在位置 - 失配字符对应的next 值（next 数组的求解会在下文的3.3.3节中详细阐述），即移动的实际位数为：j - next[j]，且此值大于等于1。\n",
    "  * next 数组求法\n",
    "    * 已知next[0~j]，求next[j+1]的递推公式\n",
    "    * 如果p[k] == p[j]，则next[j] = next[j] + 1 = k+1\n",
    "    * 如果p[k] != p[j]\n",
    "      * 如果p[next[k]==p[j]]，则next[j+1] = next[k]+1\n",
    "      * 否则继续递归前缀索引k=next[k]，而后重复此过程\n",
    "\n",
    "* blog\n",
    "  * [这个讲的贼好](https://www.cnblogs.com/zhangtianq/p/5839909.html)\n",
    "  * [next数组求法的详细解释](https://www.cnblogs.com/yjiyjige/p/3263858.html)"
   ]
  },
  {
   "cell_type": "code",
   "execution_count": null,
   "metadata": {},
   "outputs": [],
   "source": [
    "# 大循环代码\n",
    "\n",
    "def kmp(S,P,next_array):\n",
    "    i,j = 0,0\n",
    "    slen,plen = len(S),len(P)\n",
    "\n",
    "    while i < slen and j < plen:\n",
    "        if j == -1 or S[i] == P[j]:\n",
    "            j +=1\n",
    "            i += 1\n",
    "        else:\n",
    "            j = next_array[j]\n",
    "    if j == plen:\n",
    "        return i-j,i-1          # 返回P在S中的终止位置，这里使用闭区间\n",
    "    else:\n",
    "        return -1\n",
    "\n",
    "def get_next_array(P):\n",
    "    next_array = [None]*len(P)\n",
    "    plen = len(P)\n",
    "    next_array[0] = -1\n",
    "    k=-1\n",
    "    j=0\n",
    "    while j < plen-1:\n",
    "        if k == -1 or P[j]==P[k]:       # k==-1是下面else的终止条件\n",
    "            k+=1\n",
    "            j+=1\n",
    "            next_array[j] = k\n",
    "        else:                       # 这一步，我们while不向下一步走，一直递归向前找next\n",
    "            k = next_array[k]\n",
    "    return next_array"
   ]
  },
  {
   "cell_type": "markdown",
   "metadata": {},
   "source": [
    "1. 周期 [Acwing141](https://www.acwing.com/problem/content/description/143/)\n",
    "\n",
    "* 题解\n",
    "  * 先求出S的next数组\n",
    "  * 对于S的每个前缀，其实就是看其能否整除它的next数组上的值\n"
   ]
  },
  {
   "cell_type": "code",
   "execution_count": null,
   "metadata": {},
   "outputs": [],
   "source": [
    "def get_next(S):\n",
    "    slen = len(S)\n",
    "    j = 0\n",
    "    next_array = [None] * slen\n",
    "    next_array[0] = -1\n",
    "    k = -1\n",
    "\n",
    "    while j < slen -1:\n",
    "        if k == -1 or S[k] == S[j]:\n",
    "            j+=1\n",
    "            k+=1\n",
    "            next_array[j] = k\n",
    "        else:\n",
    "            k = next_array[k]\n",
    "    return next_array\n",
    "\n",
    "n = int(input())\n",
    "index = 0\n",
    "while n > 0:\n",
    "    S = input()\n",
    "    print('Test case #%d'%index)\n",
    "    next_array = get_next(S)\n",
    "    for i in range(len(S)):\n",
    "        if i % (i-next_array[i]) == 0 and i /(i-next_array[i]) > 1:\n",
    "            print('%d %d',i,i/(i-next_array[i]))\n",
    "    n = int(input())\n",
    "    index += 1"
   ]
  }
 ],
 "metadata": {
  "interpreter": {
   "hash": "4bf5ffbeb8bb60b501bd370f4f30f4e42d71afa6b8bb033ca8128ca692dcec38"
  },
  "kernelspec": {
   "display_name": "Python 3.6.8 64-bit (system)",
   "language": "python",
   "name": "python3"
  },
  "language_info": {
   "codemirror_mode": {
    "name": "ipython",
    "version": 3
   },
   "file_extension": ".py",
   "mimetype": "text/x-python",
   "name": "python",
   "nbconvert_exporter": "python",
   "pygments_lexer": "ipython3",
   "version": "3.6.8"
  },
  "orig_nbformat": 4
 },
 "nbformat": 4,
 "nbformat_minor": 2
}
